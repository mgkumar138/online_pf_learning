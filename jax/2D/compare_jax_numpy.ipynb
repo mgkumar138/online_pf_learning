{
 "cells": [
  {
   "cell_type": "code",
   "execution_count": 1,
   "metadata": {},
   "outputs": [
    {
     "name": "stdout",
     "output_type": "stream",
     "text": [
      "Metal device set to: Apple M2 Pro\n",
      "\n",
      "systemMemory: 16.00 GB\n",
      "maxCacheSize: 5.33 GB\n",
      "\n",
      "cpu\n"
     ]
    },
    {
     "name": "stderr",
     "output_type": "stream",
     "text": [
      "2024-08-28 14:49:21.084289: W pjrt_plugin/src/mps_client.cc:534] WARNING: JAX Apple GPU support is experimental and not all JAX functionality is correctly supported!\n"
     ]
    }
   ],
   "source": [
    "import os\n",
    "os.environ[\"XLA_PYTHON_CLIENT_MEM_FRACTION\"] = \"0.2\"\n",
    "import jax.numpy as jnp\n",
    "import matplotlib.pyplot as plt\n",
    "from jax import grad, jit, vmap, random, nn, lax\n",
    "from jax import value_and_grad\n",
    "import numpy as np\n",
    "from jax import config\n",
    "config.update('jax_platform_name', 'cpu')\n",
    "from jax.lib import xla_bridge\n",
    "device = xla_bridge.get_backend().platform\n",
    "print(device)"
   ]
  },
  {
   "cell_type": "code",
   "execution_count": 2,
   "metadata": {},
   "outputs": [],
   "source": [
    "def uniform_2D_pc_weights(npc, nact,seed=0,sigma=0.1, alpha=1,envsize=1):\n",
    "    x = np.linspace(-envsize,envsize,int(npc**0.5))\n",
    "    xx,yy = np.meshgrid(x,x)\n",
    "    pc_cent = np.concatenate([xx.reshape(-1)[:,None],yy.reshape(-1)[:,None]],axis=1)\n",
    "    pc_sigma = np.tile(np.eye(2),(npc,1,1))*sigma\n",
    "    # pc_sigma = np.tile(np.ones([2,2]),(npc,1,1))*sigma\n",
    "    pc_constant = np.ones(npc) * alpha\n",
    "    actor_key, critic_key = random.split(random.PRNGKey(seed), num=2)\n",
    "    return [jnp.array(pc_cent), jnp.array(pc_sigma), jnp.array(pc_constant), \n",
    "            1e-5 * random.normal(actor_key, (npc,nact)), 1e-5 * random.normal(critic_key, (npc,1))]\n",
    "\n",
    "\n",
    "def predict_placecell(params, x):\n",
    "    pc_centers, pc_sigmas, pc_constant, actor_weights, critic_weights = params\n",
    "    diff = x - pc_centers  # Shape: (npc, dim)\n",
    "    inv_sigma = jnp.linalg.inv(pc_sigmas)  # Shape: (npc, dim, dim)\n",
    "    exponent = jnp.einsum('ni,nij,nj->n', diff, inv_sigma, diff)\n",
    "    pcacts = jnp.exp(-0.5 * exponent) * pc_constant**2\n",
    "    return pcacts\n",
    "\n",
    "def compute_reward_prediction_error(rewards, values, gamma=0.95):\n",
    "    new_values = jnp.concatenate([values[1:], jnp.array([[0]])])\n",
    "    td = rewards + gamma * new_values - values\n",
    "    return td\n",
    "\n",
    "\n",
    "def td_loss(params, coords, actions, rewards, gamma, betas):\n",
    "    aprobs = []\n",
    "    values = []\n",
    "    for coord in coords:\n",
    "        pcact = predict_placecell(params, coord)\n",
    "        aprob = predict_action(params, pcact)\n",
    "        value = predict_value(params, pcact)\n",
    "        aprobs.append(aprob)\n",
    "        values.append(value)\n",
    "    aprobs = jnp.array(aprobs)\n",
    "    values = jnp.array(values)\n",
    "\n",
    "    log_likelihood = jnp.log(aprobs) * actions  # log probability of action as policy\n",
    "    tde = jnp.array(compute_reward_prediction_error(rewards[:,None], values, gamma))\n",
    "    actor_loss = jnp.sum(log_likelihood * lax.stop_gradient(tde))  # log policy * discounted reward\n",
    "    critic_loss = -jnp.sum(tde ** 2) # grad decent\n",
    "    tot_loss = actor_loss + betas[0] * critic_loss\n",
    "    return tot_loss\n",
    "\n",
    "def predict_value(params, pcact):\n",
    "    pc_centers, pc_sigmas, pc_constant, actor_weights,critic_weights = params\n",
    "    value = jnp.matmul(pcact, critic_weights)\n",
    "    return value\n",
    "\n",
    "\n",
    "def predict_action(params, pcact, beta=1):\n",
    "    pc_centers, pc_sigmas, pc_constant, actor_weights,critic_weights = params\n",
    "    actout = jnp.matmul(pcact, actor_weights)\n",
    "    aprob = nn.softmax(beta * actout)\n",
    "    return aprob\n",
    "\n",
    "@jit\n",
    "def update_td_params(params, coords, actions, rewards, etas, gamma, betas):\n",
    "    loss, grads = value_and_grad(td_loss)(params, coords,actions, rewards, gamma, betas)\n",
    "    pc_centers, pc_sigmas, pc_constant, actor_weights,critic_weights = params\n",
    "    dpcc, dpcs, dpca, dact, dcri = grads\n",
    "\n",
    "    # + for gradient ascent\n",
    "    pc_eta, sigma_eta,constant_eta, actor_eta, critic_eta = etas\n",
    "    newpc_centers = pc_centers + pc_eta * dpcc\n",
    "    newpc_sigma = pc_sigmas + sigma_eta * dpcs\n",
    "    newpc_const = pc_constant + constant_eta * dpca\n",
    "    newactor_weights = actor_weights + actor_eta * dact\n",
    "    newcritic_weights = critic_weights + critic_eta * dcri  # gradient descent\n",
    "    return [newpc_centers, newpc_sigma,newpc_const, newactor_weights,newcritic_weights], grads, loss\n"
   ]
  },
  {
   "cell_type": "code",
   "execution_count": 3,
   "metadata": {},
   "outputs": [],
   "source": [
    "def learn(params, reward, state, onehotg, gamma, etas,beta=1):\n",
    "    pc_centers, pc_sigmas, pc_constant, actor_weights, critic_weights = params\n",
    "    pcact = predict_placecell(params, state)\n",
    "    # newpcact = predict_placecell(params, newstate)\n",
    "    value =  predict_value(params, pcact)\n",
    "    # newvalue = predict_value(params, newpcact)\n",
    "    td = compute_reward_prediction_error(reward[:,None], np.array([value]), gamma)[:,0]\n",
    "\n",
    "    # td = (reward + gamma * newvalue - value)[0]\n",
    "    aprob = predict_action(params, pcact)\n",
    "\n",
    "    # Critic grads\n",
    "    dcri = pcact[:, None] * td\n",
    "    \n",
    "    # Actor grads\n",
    "    decay = beta * (onehotg[:, None] - aprob[:, None])\n",
    "    dact = np.dot(pcact[:, None], decay.T) * td\n",
    "    \n",
    "    # Grads for field parameters\n",
    "    post_td = (actor_weights @ decay + critic_weights) * td\n",
    "\n",
    "    df = state - pc_centers\n",
    "    inv_sigma = np.linalg.inv(pc_sigmas)\n",
    "\n",
    "    dpcc = post_td * pcact[:,None] * np.einsum('nji,nj->ni', inv_sigma, df)\n",
    "    outer = np.einsum('nj,nk->njk',df,df)\n",
    "    dpcs = 0.5 * (post_td * pcact[:,None])[:,:,None] * np.einsum('njl,njk,nik->nji',inv_sigma, outer, inv_sigma)\n",
    "    dpca = (post_td * pcact[:,None] * (2/pc_constant[:,None]))[:,0]\n",
    "\n",
    "    grads = [dpcc, dpcs, dpca, dact, dcri]  # dpcc needs to be transposed back\n",
    "    \n",
    "    for p in range(len(params)):\n",
    "        params[p] += etas[p] * grads[p]\n",
    "\n",
    "    return params, grads, td"
   ]
  },
  {
   "cell_type": "code",
   "execution_count": 4,
   "metadata": {},
   "outputs": [],
   "source": [
    "# gradients computed by jax\n",
    "\n",
    "npc = 9\n",
    "nact = 4\n",
    "seed = 2020\n",
    "sigma = 0.1\n",
    "alpha = 0.5\n",
    "envsize=1.0\n",
    "gamma= 0.6\n",
    "\n",
    "# model \n",
    "params = uniform_2D_pc_weights(npc, nact, seed, sigma=sigma, alpha=alpha, envsize=envsize)\n",
    "#params[3] /=params[3]\n",
    "#params[4] /=params[4]\n",
    "#params[4] *= 1\n",
    "etas = [1, 1, 1, 1, 1]\n",
    "betas = [0.5]\n",
    "\n",
    "# dataset\n",
    "coords = np.array([[0.0, 0.0]])\n",
    "rewards = np.array([1.0])\n",
    "actions = np.array([[0,1,0,0]])\n"
   ]
  },
  {
   "cell_type": "code",
   "execution_count": 5,
   "metadata": {},
   "outputs": [
    {
     "name": "stdout",
     "output_type": "stream",
     "text": [
      "[[0.1 0. ]\n",
      " [0.  0.1]]\n",
      "[0.01 0.01 0.01 0.01 0.01 0.01 0.01 0.01 0.01]\n",
      "[[10.  0.]\n",
      " [ 0. 10.]]\n"
     ]
    }
   ],
   "source": [
    "print(params[1][0])\n",
    "print(jnp.linalg.det(params[1]))\n",
    "print(jnp.linalg.inv(params[1])[0])"
   ]
  },
  {
   "cell_type": "code",
   "execution_count": 6,
   "metadata": {},
   "outputs": [
    {
     "name": "stdout",
     "output_type": "stream",
     "text": [
      "[[-1.0465312e-08 -1.0465312e-08]\n",
      " [-1.0465312e-08 -1.0465312e-08]]\n",
      "[[0.000000e+00 0.000000e+00]\n",
      " [0.000000e+00 4.299794e-07]]\n",
      "[[ 1.6479046e-08 -1.6479046e-08]\n",
      " [-1.6479046e-08  1.6479046e-08]]\n",
      "[[9.997724e-07 0.000000e+00]\n",
      " [0.000000e+00 0.000000e+00]]\n",
      "[[0. 0.]\n",
      " [0. 0.]]\n",
      "[[8.2153485e-07 0.0000000e+00]\n",
      " [0.0000000e+00 0.0000000e+00]]\n",
      "[[-3.7963463e-09  3.7963463e-09]\n",
      " [ 3.7963463e-09 -3.7963463e-09]]\n",
      "[[ 0.0000000e+00  0.0000000e+00]\n",
      " [ 0.0000000e+00 -2.1201467e-06]]\n",
      "[[-1.6723596e-09 -1.6723596e-09]\n",
      " [-1.6723596e-09 -1.6723596e-09]]\n"
     ]
    }
   ],
   "source": [
    "# update by jax\n",
    "_, jaxgrads, loss = update_td_params(params.copy(), coords, actions, rewards, etas, gamma, betas)\n",
    "\n",
    "for g in jaxgrads[1]: print(g)"
   ]
  },
  {
   "cell_type": "code",
   "execution_count": 7,
   "metadata": {},
   "outputs": [
    {
     "name": "stdout",
     "output_type": "stream",
     "text": [
      "[[-1.0465313e-08 -1.0465313e-08]\n",
      " [-1.0465313e-08 -1.0465313e-08]]\n",
      "[[0.000000e+00 0.000000e+00]\n",
      " [0.000000e+00 4.299794e-07]]\n",
      "[[ 1.6479046e-08 -1.6479046e-08]\n",
      " [-1.6479046e-08  1.6479046e-08]]\n",
      "[[9.997724e-07 0.000000e+00]\n",
      " [0.000000e+00 0.000000e+00]]\n",
      "[[-0. -0.]\n",
      " [-0. -0.]]\n",
      "[[8.2153485e-07 0.0000000e+00]\n",
      " [0.0000000e+00 0.0000000e+00]]\n",
      "[[-3.7963463e-09  3.7963463e-09]\n",
      " [ 3.7963463e-09 -3.7963463e-09]]\n",
      "[[-0.0000000e+00 -0.0000000e+00]\n",
      " [-0.0000000e+00 -2.1201467e-06]]\n",
      "[[-1.6723598e-09 -1.6723598e-09]\n",
      " [-1.6723598e-09 -1.6723598e-09]]\n"
     ]
    }
   ],
   "source": [
    "# update by numpy\n",
    "_, npgrads, td = learn(params.copy(), rewards, coords[0], actions[0], gamma, etas) \n",
    "\n",
    "for g in npgrads[1]: print(g)"
   ]
  },
  {
   "cell_type": "code",
   "execution_count": 8,
   "metadata": {},
   "outputs": [
    {
     "name": "stdout",
     "output_type": "stream",
     "text": [
      "[-0.00042112  0.00126337 -0.00042112 -0.00042112]\n",
      "[-0.00042112  0.00126337 -0.00042112 -0.00042112]\n",
      "[0.99999994 1.0000001  1.0000001  1.0000001 ]\n"
     ]
    }
   ],
   "source": [
    "idx = 7\n",
    "pidx = 3\n",
    "print(np.array(jaxgrads[pidx])[idx])\n",
    "print(np.array(npgrads[pidx])[idx])\n",
    "print(np.array(jaxgrads[pidx])[idx] /np.array(npgrads[pidx])[idx])\n"
   ]
  },
  {
   "cell_type": "code",
   "execution_count": 9,
   "metadata": {},
   "outputs": [
    {
     "name": "stdout",
     "output_type": "stream",
     "text": [
      "1.3183236e-09\n",
      "1.3183237e-09\n",
      "0.99999994\n"
     ]
    }
   ],
   "source": [
    "idx = 2\n",
    "pidx = 2\n",
    "print(np.array(jaxgrads[pidx])[idx])\n",
    "print(np.array(npgrads[pidx])[idx])\n",
    "print(np.array(jaxgrads[pidx])[idx] /np.array(npgrads[pidx])[idx])\n"
   ]
  },
  {
   "cell_type": "code",
   "execution_count": 10,
   "metadata": {},
   "outputs": [
    {
     "name": "stdout",
     "output_type": "stream",
     "text": [
      "[[[0.99999994 0.99999994]\n",
      "  [0.99999994 0.99999994]]\n",
      "\n",
      " [[       nan        nan]\n",
      "  [       nan 1.        ]]\n",
      "\n",
      " [[1.         1.        ]\n",
      "  [1.         1.        ]]\n",
      "\n",
      " [[1.                nan]\n",
      "  [       nan        nan]]\n",
      "\n",
      " [[       nan        nan]\n",
      "  [       nan        nan]]\n",
      "\n",
      " [[1.                nan]\n",
      "  [       nan        nan]]\n",
      "\n",
      " [[1.         1.        ]\n",
      "  [1.         1.        ]]\n",
      "\n",
      " [[       nan        nan]\n",
      "  [       nan 1.        ]]\n",
      "\n",
      " [[0.9999999  0.9999999 ]\n",
      "  [0.9999999  0.9999999 ]]]\n"
     ]
    },
    {
     "name": "stderr",
     "output_type": "stream",
     "text": [
      "/var/folders/9w/2t7dk80j0vncsnz93dbrg1080000gp/T/ipykernel_70002/258483140.py:2: RuntimeWarning: invalid value encountered in divide\n",
      "  print(np.array(jaxgrads[pidx]) /np.array(npgrads[pidx]))\n"
     ]
    }
   ],
   "source": [
    "pidx = 1\n",
    "print(np.array(jaxgrads[pidx]) /np.array(npgrads[pidx]))"
   ]
  },
  {
   "cell_type": "code",
   "execution_count": 11,
   "metadata": {},
   "outputs": [
    {
     "data": {
      "text/plain": [
       "Array([[[10.,  0.],\n",
       "        [ 0., 10.]],\n",
       "\n",
       "       [[10.,  0.],\n",
       "        [ 0., 10.]],\n",
       "\n",
       "       [[10.,  0.],\n",
       "        [ 0., 10.]],\n",
       "\n",
       "       [[10.,  0.],\n",
       "        [ 0., 10.]],\n",
       "\n",
       "       [[10.,  0.],\n",
       "        [ 0., 10.]],\n",
       "\n",
       "       [[10.,  0.],\n",
       "        [ 0., 10.]],\n",
       "\n",
       "       [[10.,  0.],\n",
       "        [ 0., 10.]],\n",
       "\n",
       "       [[10.,  0.],\n",
       "        [ 0., 10.]],\n",
       "\n",
       "       [[10.,  0.],\n",
       "        [ 0., 10.]]], dtype=float32)"
      ]
     },
     "execution_count": 11,
     "metadata": {},
     "output_type": "execute_result"
    }
   ],
   "source": [
    "jnp.linalg.inv(params[1])"
   ]
  },
  {
   "cell_type": "code",
   "execution_count": 15,
   "metadata": {},
   "outputs": [
    {
     "name": "stdout",
     "output_type": "stream",
     "text": [
      "(9, 2)\n"
     ]
    },
    {
     "ename": "ValueError",
     "evalue": "shapes (2,9) and (9,2,2) not aligned: 9 (dim 1) != 2 (dim 1)",
     "output_type": "error",
     "traceback": [
      "\u001b[0;31m---------------------------------------------------------------------------\u001b[0m",
      "\u001b[0;31mValueError\u001b[0m                                Traceback (most recent call last)",
      "Cell \u001b[0;32mIn[15], line 12\u001b[0m\n\u001b[1;32m      9\u001b[0m     exponent \u001b[38;5;241m=\u001b[39m  np\u001b[38;5;241m.\u001b[39mdot(np\u001b[38;5;241m.\u001b[39mdot(diff\u001b[38;5;241m.\u001b[39mT, np\u001b[38;5;241m.\u001b[39mlinalg\u001b[38;5;241m.\u001b[39minv(W)), diff)\n\u001b[1;32m     10\u001b[0m     \u001b[38;5;28;01mreturn\u001b[39;00m np\u001b[38;5;241m.\u001b[39mexp(\u001b[38;5;241m-\u001b[39m\u001b[38;5;241m0.5\u001b[39m \u001b[38;5;241m*\u001b[39m exponent)\n\u001b[0;32m---> 12\u001b[0m \u001b[38;5;28mprint\u001b[39m(\u001b[43mrbf\u001b[49m\u001b[43m(\u001b[49m\u001b[43mcoords\u001b[49m\u001b[43m[\u001b[49m\u001b[38;5;241;43m0\u001b[39;49m\u001b[43m]\u001b[49m\u001b[43m,\u001b[49m\u001b[43m \u001b[49m\u001b[43mparams\u001b[49m\u001b[43m[\u001b[49m\u001b[38;5;241;43m0\u001b[39;49m\u001b[43m]\u001b[49m\u001b[43m,\u001b[49m\u001b[43m \u001b[49m\u001b[43mparams\u001b[49m\u001b[43m[\u001b[49m\u001b[38;5;241;43m1\u001b[39;49m\u001b[43m]\u001b[49m\u001b[43m)\u001b[49m)\n",
      "Cell \u001b[0;32mIn[15], line 9\u001b[0m, in \u001b[0;36mrbf\u001b[0;34m(s, c, W)\u001b[0m\n\u001b[1;32m      7\u001b[0m diff \u001b[38;5;241m=\u001b[39m s \u001b[38;5;241m-\u001b[39m c\n\u001b[1;32m      8\u001b[0m \u001b[38;5;28mprint\u001b[39m(diff\u001b[38;5;241m.\u001b[39mshape)\n\u001b[0;32m----> 9\u001b[0m exponent \u001b[38;5;241m=\u001b[39m  np\u001b[38;5;241m.\u001b[39mdot(\u001b[43mnp\u001b[49m\u001b[38;5;241;43m.\u001b[39;49m\u001b[43mdot\u001b[49m\u001b[43m(\u001b[49m\u001b[43mdiff\u001b[49m\u001b[38;5;241;43m.\u001b[39;49m\u001b[43mT\u001b[49m\u001b[43m,\u001b[49m\u001b[43m \u001b[49m\u001b[43mnp\u001b[49m\u001b[38;5;241;43m.\u001b[39;49m\u001b[43mlinalg\u001b[49m\u001b[38;5;241;43m.\u001b[39;49m\u001b[43minv\u001b[49m\u001b[43m(\u001b[49m\u001b[43mW\u001b[49m\u001b[43m)\u001b[49m\u001b[43m)\u001b[49m, diff)\n\u001b[1;32m     10\u001b[0m \u001b[38;5;28;01mreturn\u001b[39;00m np\u001b[38;5;241m.\u001b[39mexp(\u001b[38;5;241m-\u001b[39m\u001b[38;5;241m0.5\u001b[39m \u001b[38;5;241m*\u001b[39m exponent)\n",
      "File \u001b[0;32m<__array_function__ internals>:200\u001b[0m, in \u001b[0;36mdot\u001b[0;34m(*args, **kwargs)\u001b[0m\n",
      "\u001b[0;31mValueError\u001b[0m: shapes (2,9) and (9,2,2) not aligned: 9 (dim 1) != 2 (dim 1)"
     ]
    }
   ],
   "source": [
    "def rbf(s, c, W):\n",
    "    \"\"\"\n",
    "    s : 2d vector\n",
    "    c : center of the basis function (2d vector)\n",
    "    W : covariance matrix (2x2 matrix with diagonals = 0.1^2)\n",
    "    \"\"\"\n",
    "    diff = s - c\n",
    "    print(diff.shape)\n",
    "    exponent =  np.dot(np.dot(diff.T, np.linalg.inv(W)), diff)\n",
    "    return np.exp(-0.5 * exponent)\n",
    "\n",
    "print(rbf(coords[0], params[0], params[1]))"
   ]
  },
  {
   "cell_type": "code",
   "execution_count": null,
   "metadata": {},
   "outputs": [],
   "source": [
    "def radial_basis_function_no_inverse(s, c, W):\n",
    "    \"\"\"\n",
    "    s : 2D vector\n",
    "    c : center of the basis function (2D vector)\n",
    "    W : covariance matrix (2x2 matrix with diagonals = 0.1^2)\n",
    "    \"\"\"\n",
    "    diff = s - c\n",
    "    result = np.dot(diff.T, np.linalg.solve(W, diff))\n",
    "    return np.exp(-0.5 * result)"
   ]
  },
  {
   "cell_type": "code",
   "execution_count": 18,
   "metadata": {},
   "outputs": [
    {
     "name": "stdout",
     "output_type": "stream",
     "text": [
      "[5. 2.]\n",
      "[5. 2.]\n"
     ]
    }
   ],
   "source": [
    "sig = np.array([[0.1,0.0],[0.0,0.1]])\n",
    "B = np.array([0.5,0.2])\n",
    "\n",
    "print(np.linalg.solve(sig, B))\n",
    "print(np.linalg.inv(sig) @ B)"
   ]
  },
  {
   "cell_type": "code",
   "execution_count": null,
   "metadata": {},
   "outputs": [],
   "source": []
  }
 ],
 "metadata": {
  "kernelspec": {
   "display_name": "control",
   "language": "python",
   "name": "python3"
  },
  "language_info": {
   "codemirror_mode": {
    "name": "ipython",
    "version": 3
   },
   "file_extension": ".py",
   "mimetype": "text/x-python",
   "name": "python",
   "nbconvert_exporter": "python",
   "pygments_lexer": "ipython3",
   "version": "3.8.19"
  }
 },
 "nbformat": 4,
 "nbformat_minor": 2
}
