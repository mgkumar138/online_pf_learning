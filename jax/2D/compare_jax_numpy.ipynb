{
 "cells": [
  {
   "cell_type": "code",
   "execution_count": 1,
   "metadata": {},
   "outputs": [
    {
     "name": "stdout",
     "output_type": "stream",
     "text": [
      "Metal device set to: Apple M2 Pro\n",
      "\n",
      "systemMemory: 16.00 GB\n",
      "maxCacheSize: 5.33 GB\n",
      "\n",
      "cpu\n"
     ]
    },
    {
     "name": "stderr",
     "output_type": "stream",
     "text": [
      "2024-08-21 22:09:17.438938: W pjrt_plugin/src/mps_client.cc:534] WARNING: JAX Apple GPU support is experimental and not all JAX functionality is correctly supported!\n"
     ]
    }
   ],
   "source": [
    "import os\n",
    "os.environ[\"XLA_PYTHON_CLIENT_MEM_FRACTION\"] = \"0.2\"\n",
    "import jax.numpy as jnp\n",
    "import matplotlib.pyplot as plt\n",
    "from backend import *\n",
    "from jax import value_and_grad\n",
    "import numpy as np\n",
    "from jax import config\n",
    "config.update('jax_platform_name', 'cpu')\n",
    "from jax.lib import xla_bridge\n",
    "device = xla_bridge.get_backend().platform\n",
    "print(device)"
   ]
  },
  {
   "cell_type": "code",
   "execution_count": 2,
   "metadata": {},
   "outputs": [],
   "source": [
    "def uniform_2D_pc_weights(npc, nact,seed=0,sigma=0.1, alpha=1,envsize=1):\n",
    "    x = np.linspace(-envsize,envsize,int(npc**0.5))\n",
    "    xx,yy = np.meshgrid(x,x)\n",
    "    pc_cent = np.concatenate([xx.reshape(-1)[:,None],yy.reshape(-1)[:,None]],axis=1)\n",
    "    pc_sigma = np.tile(np.eye(2),(npc,1,1))*sigma\n",
    "    # pc_sigma = np.tile(np.ones([2,2]),(npc,1,1))*sigma\n",
    "    pc_constant = np.ones(npc) * alpha\n",
    "    actor_key, critic_key = random.split(random.PRNGKey(seed), num=2)\n",
    "    return [jnp.array(pc_cent), jnp.array(pc_sigma), jnp.array(pc_constant), \n",
    "            1e-5 * random.normal(actor_key, (npc,nact)), 1e-5 * random.normal(critic_key, (npc,1))]\n",
    "\n",
    "\n",
    "def predict_placecell(params, x):\n",
    "    pc_centers, pc_sigmas, pc_constant, actor_weights,critic_weights = params\n",
    "    npcs = params[0].shape[0]\n",
    "    pcacts = []\n",
    "    for n in range(npcs):\n",
    "        diff = (x[:,None]-pc_centers[n][:,None])\n",
    "        exponent = diff.T @ jnp.linalg.inv(pc_sigmas[n]) @ diff\n",
    "        pcact = jnp.exp(-0.5*exponent) * pc_constant[n]**2\n",
    "        pcacts.append(pcact)\n",
    "    return jnp.vstack(pcacts)[:,0]\n",
    "\n",
    "def compute_reward_prediction_error(rewards, values, gamma=0.95):\n",
    "    new_values = jnp.concatenate([values[1:], jnp.array([[0]])])\n",
    "    td = rewards + gamma * new_values - values\n",
    "    return td\n",
    "\n",
    "\n",
    "def td_loss(params, coords, actions, rewards, gamma, betas):\n",
    "    aprobs = []\n",
    "    values = []\n",
    "    for coord in coords:\n",
    "        pcact = predict_placecell(params, coord)\n",
    "        aprob = predict_action(params, pcact)\n",
    "        value = predict_value(params, pcact)\n",
    "        aprobs.append(aprob)\n",
    "        values.append(value)\n",
    "    aprobs = jnp.array(aprobs)\n",
    "    values = jnp.array(values)\n",
    "\n",
    "    log_likelihood = jnp.log(aprobs) * actions  # log probability of action as policy\n",
    "    tde = jnp.array(compute_reward_prediction_error(rewards[:,None], values, gamma))\n",
    "    actor_loss = jnp.sum(log_likelihood * lax.stop_gradient(tde))  # log policy * discounted reward\n",
    "    critic_loss = -jnp.sum(tde ** 2) # grad decent\n",
    "    tot_loss = actor_loss + betas[0] * critic_loss\n",
    "    return tot_loss\n",
    "\n",
    "def predict_value(params, pcact):\n",
    "    pc_centers, pc_sigmas, pc_constant, actor_weights,critic_weights = params\n",
    "    value = jnp.matmul(pcact, critic_weights)\n",
    "    return value\n",
    "\n",
    "\n",
    "def predict_action(params, pcact, beta=2):\n",
    "    pc_centers, pc_sigmas, pc_constant, actor_weights,critic_weights = params\n",
    "    actout = jnp.matmul(pcact, actor_weights)\n",
    "    aprob = nn.softmax(beta * actout)\n",
    "    return aprob\n",
    "\n",
    "@jit\n",
    "def update_td_params(params, coords, actions, rewards, etas, gamma, betas):\n",
    "    loss, grads = value_and_grad(td_loss)(params, coords,actions, rewards, gamma, betas)\n",
    "    pc_centers, pc_sigmas, pc_constant, actor_weights,critic_weights = params\n",
    "    dpcc, dpcs, dpca, dact, dcri = grads\n",
    "\n",
    "    # + for gradient ascent\n",
    "    pc_eta, sigma_eta,constant_eta, actor_eta, critic_eta = etas\n",
    "    newpc_centers = pc_centers + pc_eta * dpcc\n",
    "    newpc_sigma = pc_sigmas + sigma_eta * dpcs\n",
    "    newpc_const = pc_constant + constant_eta * dpca\n",
    "    newactor_weights = actor_weights + actor_eta * dact\n",
    "    newcritic_weights = critic_weights + critic_eta * dcri  # gradient descent\n",
    "    return [newpc_centers, newpc_sigma,newpc_const, newactor_weights,newcritic_weights], grads, loss\n"
   ]
  },
  {
   "cell_type": "code",
   "execution_count": 3,
   "metadata": {},
   "outputs": [],
   "source": [
    "def learn_(params, reward, state, onehotg, gamma, etas,beta=2):\n",
    "    pcact = predict_placecell(params, state)\n",
    "    # newpcact = predict_placecell(params, newstate)\n",
    "    value =  predict_value(params, pcact)\n",
    "    # newvalue = predict_value(params, newpcact)\n",
    "    td = compute_reward_prediction_error(reward[:,None], np.array([value]), gamma)[:,0]\n",
    "\n",
    "    # td = (reward + gamma * newvalue - value)[0]\n",
    "    aprob = predict_action(params, pcact)\n",
    "    onehotg = onehotg[0]\n",
    "\n",
    "    # get critic grads\n",
    "    dcri =  pcact[:,None] * td\n",
    "\n",
    "    # get actor grads\n",
    "    decay = beta * (onehotg[:,None]- aprob[:,None])  # derived from softmax grads\n",
    "    # decay = onehotg[:,None]  # foster et al. 2000 rule, simplified form of the derivative\n",
    "    dact = (pcact[:,None] @ decay.T) * td\n",
    "\n",
    "    # get phi grads: dp = phi' (W^actor @ act + W^critic) * td\n",
    "    post_td = (params[3] @ decay + params[4]) * td\n",
    "\n",
    "    npcs = params[0].shape[0]\n",
    "    \n",
    "    for n in range(npcs):\n",
    "        dpcc = (post_td[n] * (pcact[n,None]) * ((state - params[0][n])/params[1]**2)[:,None])[:,0]  # grad for pc_cent\n",
    "        dpcs = (post_td * (pcact[:,None]) * ((state - params[0])**2/params[1]**3)[:,None])[:,0]  # grad for pc_sigma\n",
    "    dpca = (post_td * (pcact[:,None]) * (2 / params[2][:,None]))[:,0]  # grad for pc_constant\n",
    "\n",
    "    grads = [dpcc, dpcs, dpca, dact, dcri]\n",
    "\n",
    "    #update weights\n",
    "    for p in range(len(params)):\n",
    "        params[p] += etas[p] * grads[p]\n",
    "\n",
    "    return params, grads, td"
   ]
  },
  {
   "cell_type": "code",
   "execution_count": 4,
   "metadata": {},
   "outputs": [],
   "source": [
    "def learn(params, reward, state, onehotg, gamma, etas, beta=1):\n",
    "    pc_centers, pc_sigmas, pc_constant, actor_weights, critic_weights = params\n",
    "    pcact = predict_placecell(params, state)\n",
    "    value = predict_value(params, pcact)\n",
    "    td = compute_reward_prediction_error(reward[:, None], np.array([value]), gamma)[:, 0]\n",
    "    \n",
    "    # Predict action and calculate TD error\n",
    "    aprob = predict_action(params, pcact)\n",
    "    onehotg = onehotg[0]\n",
    "\n",
    "    # Critic grads\n",
    "    dcri = pcact[:, None] * td\n",
    "\n",
    "    # Actor grads\n",
    "    decay = beta * (onehotg[:, None] - aprob[:, None])  # derived from softmax grads\n",
    "    dact = (pcact[:, None] @ decay.T) * td\n",
    "\n",
    "    # Grads for field parameters\n",
    "    post_td = (actor_weights @ decay + critic_weights) * td\n",
    "    dpcc = np.zeros_like(pc_centers)\n",
    "    dpcs = np.zeros_like(pc_sigmas)\n",
    "    dpca = np.zeros_like(pc_constant)\n",
    "\n",
    "    for n in range(params[0].shape[0]):\n",
    "        diff = state - pc_centers[n]\n",
    "        inv_sigma = np.linalg.inv(pc_sigmas[n])\n",
    "        exp_term = np.exp(-0.5 * diff.T @ inv_sigma @ diff)\n",
    "        \n",
    "        # Gradient wrt. pc_cent\n",
    "        dpcc[n] = post_td[n] * pc_constant[n]**2 * exp_term * inv_sigma @ diff\n",
    "        \n",
    "        # Gradient wrt. pc_sigma\n",
    "        diff_outer = np.outer(diff, diff)\n",
    "        dpcs[n] = 0.5 * post_td[n] * pc_constant[n]**2 * exp_term * inv_sigma @ diff_outer @ inv_sigma\n",
    "        \n",
    "        # Gradient wrt. pc_constant\n",
    "        dpca[n] = 2 * pc_constant[n] * exp_term * post_td[n]\n",
    "\n",
    "    # Update parameters\n",
    "    pc_eta, sigma_eta, constant_eta, actor_eta, critic_eta = etas\n",
    "    new_pc_centers = pc_centers + pc_eta * dpcc\n",
    "    new_pc_sigma = pc_sigmas + sigma_eta * dpcs\n",
    "    new_pc_const = pc_constant + constant_eta * dpca\n",
    "    new_actor_weights = actor_weights + actor_eta * dact\n",
    "    new_critic_weights = critic_weights + critic_eta * dcri\n",
    "\n",
    "    new_params = [new_pc_centers, new_pc_sigma, new_pc_const, new_actor_weights, new_critic_weights]\n",
    "    grads = [dpcc, dpcs, dpca, dact, dcri]\n",
    "\n",
    "    return new_params, grads, td"
   ]
  },
  {
   "cell_type": "code",
   "execution_count": 5,
   "metadata": {},
   "outputs": [],
   "source": [
    "# gradients computed by jax\n",
    "\n",
    "npc = 9\n",
    "nact = 4\n",
    "seed = 2020\n",
    "sigma = 0.25\n",
    "alpha = 1.0\n",
    "envsize=1.0\n",
    "gamma= 0.6\n",
    "\n",
    "# model \n",
    "params = uniform_2D_pc_weights(npc, nact, seed, sigma=sigma, alpha=alpha, envsize=envsize)\n",
    "#params[3] /=params[3]\n",
    "#params[4] /=params[4]\n",
    "#params[4] *= 1\n",
    "etas = [1, 1, 1, 1, 1]\n",
    "betas = [0.5]\n",
    "\n",
    "# dataset\n",
    "coords = np.array([[0.0, 0.0]])\n",
    "rewards = np.array([1.0])\n",
    "actions = np.array([[0,1,0,0]])\n"
   ]
  },
  {
   "cell_type": "code",
   "execution_count": 6,
   "metadata": {},
   "outputs": [
    {
     "data": {
      "text/plain": [
       "Array([[[0.25, 0.  ],\n",
       "        [0.  , 0.25]],\n",
       "\n",
       "       [[0.25, 0.  ],\n",
       "        [0.  , 0.25]],\n",
       "\n",
       "       [[0.25, 0.  ],\n",
       "        [0.  , 0.25]],\n",
       "\n",
       "       [[0.25, 0.  ],\n",
       "        [0.  , 0.25]],\n",
       "\n",
       "       [[0.25, 0.  ],\n",
       "        [0.  , 0.25]],\n",
       "\n",
       "       [[0.25, 0.  ],\n",
       "        [0.  , 0.25]],\n",
       "\n",
       "       [[0.25, 0.  ],\n",
       "        [0.  , 0.25]],\n",
       "\n",
       "       [[0.25, 0.  ],\n",
       "        [0.  , 0.25]],\n",
       "\n",
       "       [[0.25, 0.  ],\n",
       "        [0.  , 0.25]]], dtype=float32)"
      ]
     },
     "execution_count": 6,
     "metadata": {},
     "output_type": "execute_result"
    }
   ],
   "source": [
    "params[1]"
   ]
  },
  {
   "cell_type": "code",
   "execution_count": 7,
   "metadata": {},
   "outputs": [
    {
     "data": {
      "text/plain": [
       "<matplotlib.colorbar.Colorbar at 0x158344d00>"
      ]
     },
     "execution_count": 7,
     "metadata": {},
     "output_type": "execute_result"
    },
    {
     "data": {
      "image/png": "[encoded data removed]",
      "text/plain": [
       "<Figure size 640x480 with 2 Axes>"
      ]
     },
     "metadata": {},
     "output_type": "display_data"
    }
   ],
   "source": [
    "pc = predict_placecell(params, coords[0])\n",
    "plt.imshow(pc.reshape(int(np.sqrt(npc)),int(np.sqrt(npc))))\n",
    "plt.colorbar()"
   ]
  },
  {
   "cell_type": "code",
   "execution_count": 8,
   "metadata": {},
   "outputs": [
    {
     "name": "stdout",
     "output_type": "stream",
     "text": [
      "-1.8863151\n",
      "[[-1.3908466e-06 -1.3908466e-06]\n",
      " [ 0.0000000e+00  3.1785319e-06]\n",
      " [-2.9516998e-06  2.9516998e-06]\n",
      " [ 1.0359796e-05  0.0000000e+00]\n",
      " [ 0.0000000e+00  0.0000000e+00]\n",
      " [-6.5796089e-06  0.0000000e+00]\n",
      " [-3.7933916e-07  3.7933916e-07]\n",
      " [ 0.0000000e+00  1.6682028e-05]\n",
      " [-3.4374136e-08 -3.4374136e-08]]\n",
      "[[[-2.7816932e-06 -2.7816932e-06]\n",
      "  [-2.7816932e-06 -2.7816932e-06]]\n",
      "\n",
      " [[ 0.0000000e+00  0.0000000e+00]\n",
      "  [ 0.0000000e+00  6.3570637e-06]]\n",
      "\n",
      " [[ 5.9033996e-06 -5.9033996e-06]\n",
      "  [-5.9033996e-06  5.9033996e-06]]\n",
      "\n",
      " [[ 2.0719592e-05  0.0000000e+00]\n",
      "  [ 0.0000000e+00  0.0000000e+00]]\n",
      "\n",
      " [[ 0.0000000e+00  0.0000000e+00]\n",
      "  [ 0.0000000e+00  0.0000000e+00]]\n",
      "\n",
      " [[ 1.3159218e-05  0.0000000e+00]\n",
      "  [ 0.0000000e+00  0.0000000e+00]]\n",
      "\n",
      " [[-7.5867831e-07  7.5867831e-07]\n",
      "  [ 7.5867831e-07 -7.5867831e-07]]\n",
      "\n",
      " [[ 0.0000000e+00  0.0000000e+00]\n",
      "  [ 0.0000000e+00 -3.3364056e-05]]\n",
      "\n",
      " [[ 6.8748271e-08  6.8748271e-08]\n",
      "  [ 6.8748271e-08  6.8748271e-08]]]\n",
      "[-6.9542330e-07  1.5892659e-06  1.4758499e-06  5.1798979e-06\n",
      " -5.2343035e-05  3.2898045e-06 -1.8966958e-07 -8.3410141e-06\n",
      "  1.7187068e-08]\n",
      "[[-0.00915786  0.02747364 -0.00915775 -0.00915802]\n",
      " [-0.06766794  0.20300423 -0.06766713 -0.06766913]\n",
      " [-0.00915786  0.02747364 -0.00915775 -0.00915802]\n",
      " [-0.06766794  0.20300423 -0.06766713 -0.06766913]\n",
      " [-0.5000022   1.5000097  -0.49999624 -0.500011  ]\n",
      " [-0.06766794  0.20300423 -0.06766713 -0.06766913]\n",
      " [-0.00915786  0.02747364 -0.00915775 -0.00915802]\n",
      " [-0.06766794  0.20300423 -0.06766713 -0.06766913]\n",
      " [-0.00915786  0.02747364 -0.00915775 -0.00915802]]\n",
      "[[0.01831559]\n",
      " [0.13533488]\n",
      " [0.01831559]\n",
      " [0.13533488]\n",
      " [0.999997  ]\n",
      " [0.13533488]\n",
      " [0.01831559]\n",
      " [0.13533488]\n",
      " [0.01831559]]\n"
     ]
    }
   ],
   "source": [
    "# update by jax\n",
    "_, jaxgrads, loss = update_td_params(params.copy(), coords, actions, rewards, etas, gamma, betas)\n",
    "print(loss)\n",
    "\n",
    "for g in jaxgrads: print(g)"
   ]
  },
  {
   "cell_type": "code",
   "execution_count": 9,
   "metadata": {},
   "outputs": [
    {
     "data": {
      "text/plain": [
       "(9, 2, 2)"
      ]
     },
     "execution_count": 9,
     "metadata": {},
     "output_type": "execute_result"
    }
   ],
   "source": [
    "jaxgrads[1].shape"
   ]
  },
  {
   "cell_type": "code",
   "execution_count": 10,
   "metadata": {},
   "outputs": [
    {
     "name": "stdout",
     "output_type": "stream",
     "text": [
      "[0.999997]\n",
      "[[-1.3908466e-06 -1.3908466e-06]\n",
      " [ 0.0000000e+00  3.1785319e-06]\n",
      " [-2.9516993e-06  2.9516993e-06]\n",
      " [ 1.0359796e-05  0.0000000e+00]\n",
      " [ 0.0000000e+00  0.0000000e+00]\n",
      " [-6.5796089e-06  0.0000000e+00]\n",
      " [-3.7933918e-07  3.7933918e-07]\n",
      " [ 0.0000000e+00  1.6682028e-05]\n",
      " [-3.4374168e-08 -3.4374168e-08]]\n",
      "[[[-2.7816932e-06 -2.7816932e-06]\n",
      "  [-2.7816932e-06 -2.7816932e-06]]\n",
      "\n",
      " [[ 0.0000000e+00  0.0000000e+00]\n",
      "  [ 0.0000000e+00  6.3570637e-06]]\n",
      "\n",
      " [[ 5.9033987e-06 -5.9033987e-06]\n",
      "  [-5.9033987e-06  5.9033987e-06]]\n",
      "\n",
      " [[ 2.0719592e-05  0.0000000e+00]\n",
      "  [ 0.0000000e+00  0.0000000e+00]]\n",
      "\n",
      " [[ 0.0000000e+00  0.0000000e+00]\n",
      "  [ 0.0000000e+00  0.0000000e+00]]\n",
      "\n",
      " [[ 1.3159218e-05  0.0000000e+00]\n",
      "  [ 0.0000000e+00  0.0000000e+00]]\n",
      "\n",
      " [[-7.5867837e-07  7.5867837e-07]\n",
      "  [ 7.5867837e-07 -7.5867837e-07]]\n",
      "\n",
      " [[ 0.0000000e+00  0.0000000e+00]\n",
      "  [ 0.0000000e+00 -3.3364056e-05]]\n",
      "\n",
      " [[ 6.8748335e-08  6.8748335e-08]\n",
      "  [ 6.8748335e-08  6.8748335e-08]]]\n",
      "[-6.9542330e-07  1.5892659e-06  1.4758497e-06  5.1798979e-06\n",
      " -5.2343017e-05  3.2898045e-06 -1.8966959e-07 -8.3410141e-06\n",
      "  1.7187084e-08]\n",
      "[[-0.00915786  0.02747363 -0.00915775 -0.00915802]\n",
      " [-0.06766795  0.2030042  -0.06766713 -0.06766913]\n",
      " [-0.00915786  0.02747363 -0.00915775 -0.00915802]\n",
      " [-0.06766795  0.2030042  -0.06766713 -0.06766913]\n",
      " [-0.50000226  1.5000094  -0.49999624 -0.500011  ]\n",
      " [-0.06766795  0.2030042  -0.06766713 -0.06766913]\n",
      " [-0.00915786  0.02747363 -0.00915775 -0.00915802]\n",
      " [-0.06766795  0.2030042  -0.06766713 -0.06766913]\n",
      " [-0.00915786  0.02747363 -0.00915775 -0.00915802]]\n",
      "[[0.01831559]\n",
      " [0.13533488]\n",
      " [0.01831559]\n",
      " [0.13533488]\n",
      " [0.999997  ]\n",
      " [0.13533488]\n",
      " [0.01831559]\n",
      " [0.13533488]\n",
      " [0.01831559]]\n"
     ]
    }
   ],
   "source": [
    "# update by numpy\n",
    "_, npgrads, td = learn(params.copy(), rewards, coords[0], actions, gamma, etas)\n",
    "print(td)\n",
    "\n",
    "for g in npgrads: print(g)"
   ]
  },
  {
   "cell_type": "code",
   "execution_count": 19,
   "metadata": {},
   "outputs": [
    {
     "name": "stdout",
     "output_type": "stream",
     "text": [
      "[[ 0.0000000e+00  0.0000000e+00]\n",
      " [ 0.0000000e+00 -3.3364056e-05]]\n",
      "[[ 0.0000000e+00  0.0000000e+00]\n",
      " [ 0.0000000e+00 -3.3364056e-05]]\n",
      "[[nan nan]\n",
      " [nan  1.]]\n"
     ]
    },
    {
     "name": "stderr",
     "output_type": "stream",
     "text": [
      "/var/folders/9w/2t7dk80j0vncsnz93dbrg1080000gp/T/ipykernel_17700/3206922972.py:5: RuntimeWarning: invalid value encountered in divide\n",
      "  print(np.array(jaxgrads[pidx])[idx] /np.array(npgrads[pidx])[idx])\n"
     ]
    }
   ],
   "source": [
    "idx = 7\n",
    "pidx = 1\n",
    "print(np.array(jaxgrads[pidx])[idx])\n",
    "print(np.array(npgrads[pidx])[idx])\n",
    "print(np.array(jaxgrads[pidx])[idx] /np.array(npgrads[pidx])[idx])\n"
   ]
  },
  {
   "cell_type": "code",
   "execution_count": 12,
   "metadata": {},
   "outputs": [
    {
     "name": "stdout",
     "output_type": "stream",
     "text": [
      "1.4758499e-06\n",
      "1.4758497e-06\n",
      "1.0000001\n"
     ]
    }
   ],
   "source": [
    "idx = 2\n",
    "pidx = 2\n",
    "print(np.array(jaxgrads[pidx])[idx])\n",
    "print(np.array(npgrads[pidx])[idx])\n",
    "print(np.array(jaxgrads[pidx])[idx] /np.array(npgrads[pidx])[idx])\n"
   ]
  },
  {
   "cell_type": "code",
   "execution_count": null,
   "metadata": {},
   "outputs": [],
   "source": []
  }
 ],
 "metadata": {
  "kernelspec": {
   "display_name": "control",
   "language": "python",
   "name": "python3"
  },
  "language_info": {
   "codemirror_mode": {
    "name": "ipython",
    "version": 3
   },
   "file_extension": ".py",
   "mimetype": "text/x-python",
   "name": "python",
   "nbconvert_exporter": "python",
   "pygments_lexer": "ipython3",
   "version": "3.8.19"
  }
 },
 "nbformat": 4,
 "nbformat_minor": 2
}
