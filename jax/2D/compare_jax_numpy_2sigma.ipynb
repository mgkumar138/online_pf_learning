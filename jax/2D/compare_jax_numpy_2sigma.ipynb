{
 "cells": [
  {
   "cell_type": "code",
   "execution_count": 1,
   "metadata": {},
   "outputs": [
    {
     "name": "stdout",
     "output_type": "stream",
     "text": [
      "Metal device set to: Apple M2 Pro\n",
      "\n",
      "systemMemory: 16.00 GB\n",
      "maxCacheSize: 5.33 GB\n",
      "\n",
      "cpu\n"
     ]
    },
    {
     "name": "stderr",
     "output_type": "stream",
     "text": [
      "2024-08-28 13:44:33.248619: W pjrt_plugin/src/mps_client.cc:534] WARNING: JAX Apple GPU support is experimental and not all JAX functionality is correctly supported!\n"
     ]
    }
   ],
   "source": [
    "import os\n",
    "os.environ[\"XLA_PYTHON_CLIENT_MEM_FRACTION\"] = \"0.2\"\n",
    "import jax.numpy as jnp\n",
    "import matplotlib.pyplot as plt\n",
    "from jax import grad, jit, vmap, random, nn, lax\n",
    "from jax import value_and_grad\n",
    "import numpy as np\n",
    "from jax import config\n",
    "config.update('jax_platform_name', 'cpu')\n",
    "from jax.lib import xla_bridge\n",
    "device = xla_bridge.get_backend().platform\n",
    "print(device)"
   ]
  },
  {
   "cell_type": "code",
   "execution_count": 2,
   "metadata": {},
   "outputs": [],
   "source": [
    "def uniform_2D_pc_weights(npc, nact,seed,sigma=0.1, alpha=1,envsize=1, numsigma=1):\n",
    "    x = np.linspace(-envsize,envsize,int(npc**0.5))\n",
    "    xx,yy = np.meshgrid(x,x)\n",
    "    pc_cent = np.concatenate([xx.reshape(-1)[:,None],yy.reshape(-1)[:,None]],axis=1)\n",
    "    pc_sigma = jnp.ones([npc,numsigma])*sigma\n",
    "    pc_constant = jnp.ones(npc) * alpha #/ jnp.sqrt((2*jnp.pi * jnp.sum(pc_sigma,axis=1)**2))\n",
    "    actor_key, critic_key = random.split(random.PRNGKey(seed), num=2)\n",
    "    return [jnp.array(pc_cent), jnp.array(pc_sigma), jnp.array(pc_constant), \n",
    "            1e-5 * random.normal(actor_key, (npc,nact)), 1e-5 * random.normal(critic_key, (npc,1))]\n",
    "\n",
    "\n",
    "def predict_placecell(params, x):\n",
    "    pc_centers, pc_sigmas, pc_constant, actor_weights,critic_weights = params\n",
    "    exponent = jnp.sum((x - pc_centers)**2 / (2 * pc_sigmas ** 2),axis=1)\n",
    "    pcact = jnp.exp(-exponent) * pc_constant #/ jnp.sqrt((2*jnp.pi * jnp.sum(pc_sigmas,axis=1)**2))\n",
    "    return pcact\n",
    "\n",
    "\n",
    "def compute_reward_prediction_error(rewards, values, gamma=0.95):\n",
    "    new_values = jnp.concatenate([values[1:], jnp.array([[0]])])\n",
    "    td = rewards + gamma * new_values - values\n",
    "    return td\n",
    "\n",
    "\n",
    "def td_loss(params, coords, actions, rewards, gamma, betas):\n",
    "    aprobs = []\n",
    "    values = []\n",
    "    for coord in coords:\n",
    "        pcact = predict_placecell(params, coord)\n",
    "        aprob = predict_action(params, pcact)\n",
    "        value = predict_value(params, pcact)\n",
    "        aprobs.append(aprob)\n",
    "        values.append(value)\n",
    "    aprobs = jnp.array(aprobs)\n",
    "    values = jnp.array(values)\n",
    "\n",
    "    log_likelihood = jnp.log(aprobs) * actions  # log probability of action as policy\n",
    "    tde = jnp.array(compute_reward_prediction_error(rewards[:,None], values, gamma))\n",
    "    actor_loss = jnp.sum(log_likelihood * lax.stop_gradient(tde))  # log policy * discounted reward\n",
    "    critic_loss = -jnp.sum(tde ** 2) # grad decent\n",
    "    tot_loss = actor_loss + betas[0] * critic_loss\n",
    "    return tot_loss\n",
    "\n",
    "def predict_value(params, pcact):\n",
    "    pc_centers, pc_sigmas, pc_constant, actor_weights,critic_weights = params\n",
    "    value = jnp.matmul(pcact, critic_weights)\n",
    "    return value\n",
    "\n",
    "\n",
    "def predict_action(params, pcact, beta=1):\n",
    "    pc_centers, pc_sigmas, pc_constant, actor_weights,critic_weights = params\n",
    "    actout = jnp.matmul(pcact, actor_weights)\n",
    "    aprob = nn.softmax(beta * actout)\n",
    "    return aprob\n",
    "\n",
    "@jit\n",
    "def update_td_params(params, coords, actions, rewards, etas, gamma, betas):\n",
    "    loss, grads = value_and_grad(td_loss)(params, coords,actions, rewards, gamma, betas)\n",
    "    pc_centers, pc_sigmas, pc_constant, actor_weights,critic_weights = params\n",
    "    dpcc, dpcs, dpca, dact, dcri = grads\n",
    "\n",
    "    # + for gradient ascent\n",
    "    pc_eta, sigma_eta,constant_eta, actor_eta, critic_eta = etas\n",
    "    newpc_centers = pc_centers + pc_eta * dpcc\n",
    "    newpc_sigma = pc_sigmas + sigma_eta * dpcs\n",
    "    newpc_const = pc_constant + constant_eta * dpca\n",
    "    newactor_weights = actor_weights + actor_eta * dact\n",
    "    newcritic_weights = critic_weights + critic_eta * dcri  # gradient descent\n",
    "    return [newpc_centers, newpc_sigma,newpc_const, newactor_weights,newcritic_weights], grads, loss\n"
   ]
  },
  {
   "cell_type": "code",
   "execution_count": 3,
   "metadata": {},
   "outputs": [],
   "source": [
    "def learn(params, reward, state, onehotg, gamma, etas,beta=1):\n",
    "    pc_centers, pc_sigmas, pc_constant, actor_weights, critic_weights = params\n",
    "    pcact = predict_placecell(params, state)\n",
    "    # newpcact = predict_placecell(params, newstate)\n",
    "    value =  predict_value(params, pcact)\n",
    "    # newvalue = predict_value(params, newpcact)\n",
    "    td = compute_reward_prediction_error(reward[:,None], np.array([value]), gamma)[:,0]\n",
    "\n",
    "    # td = (reward + gamma * newvalue - value)[0]\n",
    "    aprob = predict_action(params, pcact)\n",
    "\n",
    "    # Critic grads\n",
    "    dcri = pcact[:, None] * td\n",
    "    \n",
    "    # Actor grads\n",
    "    decay = beta * (onehotg[:, None] - aprob[:, None])\n",
    "    dact = np.dot(pcact[:, None], decay.T) * td\n",
    "    \n",
    "    # Grads for field parameters\n",
    "    post_td = (actor_weights @ decay + critic_weights) * td\n",
    "\n",
    "    df = state - pc_centers\n",
    "    inv_sigma = np.linalg.inv(np.diag(pc_sigmas.flatten()))\n",
    "\n",
    "    dpcc = post_td * pcact[:, None] * (inv_sigma @ df.T).T\n",
    "    outer = np.einsum('nj,nk->njk', df, df)\n",
    "    dpcs = 0.5 * (post_td * pcact[:, None])[:, :, None] * (inv_sigma @ outer @ inv_sigma)\n",
    "    dpca = (post_td * pcact[:, None] * (2 / pc_constant[:, None]))[:, 0]\n",
    "\n",
    "    grads = [dpcc, dpcs, dpca, dact, dcri]  # dpcc needs to be transposed back\n",
    "    \n",
    "    for p in range(len(params)):\n",
    "        params[p] += etas[p] * grads[p]\n",
    "\n",
    "    return params, grads, td"
   ]
  },
  {
   "cell_type": "code",
   "execution_count": 4,
   "metadata": {},
   "outputs": [],
   "source": [
    "# gradients computed by jax\n",
    "\n",
    "npc = 8**2\n",
    "nact = 4\n",
    "seed = 2020\n",
    "sigma = 0.1\n",
    "alpha = 0.5\n",
    "envsize=1.0\n",
    "gamma= 0.6\n",
    "\n",
    "# model \n",
    "params = uniform_2D_pc_weights(npc, nact, seed, sigma=sigma, alpha=alpha, envsize=envsize)\n",
    "#params[3] /=params[3]\n",
    "#params[4] /=params[4]\n",
    "#params[4] *= 1\n",
    "etas = [1, 1, 1, 1, 1]\n",
    "betas = [0.5]\n",
    "\n",
    "# dataset\n",
    "coords = np.array([[0.0, 0.0]])\n",
    "rewards = np.array([1.0])\n",
    "actions = np.array([[0,1,0,0]])\n"
   ]
  },
  {
   "cell_type": "code",
   "execution_count": 5,
   "metadata": {},
   "outputs": [
    {
     "name": "stdout",
     "output_type": "stream",
     "text": [
      "[0.1]\n"
     ]
    }
   ],
   "source": [
    "print(params[1][0])"
   ]
  },
  {
   "cell_type": "code",
   "execution_count": 6,
   "metadata": {},
   "outputs": [
    {
     "name": "stdout",
     "output_type": "stream",
     "text": [
      "[0.]\n",
      "[8.040925e-34]\n",
      "[9.904398e-27]\n",
      "[3.476075e-23]\n",
      "[3.476075e-23]\n",
      "[9.904398e-27]\n",
      "[8.040925e-34]\n",
      "[0.]\n",
      "[8.040925e-34]\n",
      "[3.476075e-23]\n",
      "[4.2816507e-16]\n",
      "[1.5026971e-12]\n",
      "[1.5026971e-12]\n",
      "[4.2816507e-16]\n",
      "[3.476075e-23]\n",
      "[8.040925e-34]\n",
      "[9.904398e-27]\n",
      "[4.2816507e-16]\n",
      "[5.273907e-09]\n",
      "[1.850945e-05]\n",
      "[1.850945e-05]\n",
      "[5.273907e-09]\n",
      "[4.2816507e-16]\n",
      "[9.904398e-27]\n",
      "[3.476075e-23]\n",
      "[1.5026971e-12]\n",
      "[1.850945e-05]\n",
      "[0.06496122]\n",
      "[0.06496122]\n",
      "[1.850945e-05]\n",
      "[1.5026971e-12]\n",
      "[3.476075e-23]\n",
      "[3.476075e-23]\n",
      "[1.5026971e-12]\n",
      "[1.850945e-05]\n",
      "[0.06496122]\n",
      "[0.06496122]\n",
      "[1.850945e-05]\n",
      "[1.5026971e-12]\n",
      "[3.476075e-23]\n",
      "[9.904398e-27]\n",
      "[4.2816507e-16]\n",
      "[5.273907e-09]\n",
      "[1.850945e-05]\n",
      "[1.850945e-05]\n",
      "[5.273907e-09]\n",
      "[4.2816507e-16]\n",
      "[9.904398e-27]\n",
      "[8.040925e-34]\n",
      "[3.476075e-23]\n",
      "[4.2816507e-16]\n",
      "[1.5026971e-12]\n",
      "[1.5026971e-12]\n",
      "[4.2816507e-16]\n",
      "[3.476075e-23]\n",
      "[8.040925e-34]\n",
      "[0.]\n",
      "[8.040925e-34]\n",
      "[9.904398e-27]\n",
      "[3.476075e-23]\n",
      "[3.476075e-23]\n",
      "[9.904398e-27]\n",
      "[8.040925e-34]\n",
      "[0.]\n"
     ]
    }
   ],
   "source": [
    "# update by jax\n",
    "_, jaxgrads, loss = update_td_params(params.copy(), coords, actions, rewards, etas, gamma, betas)\n",
    "\n",
    "for g in jaxgrads[4]: print(g)"
   ]
  },
  {
   "cell_type": "code",
   "execution_count": 7,
   "metadata": {},
   "outputs": [
    {
     "ename": "TypeError",
     "evalue": "dot_general requires contracting dimensions to have the same shape, got (64,) and (2,).",
     "output_type": "error",
     "traceback": [
      "\u001b[0;31m---------------------------------------------------------------------------\u001b[0m",
      "\u001b[0;31mTypeError\u001b[0m                                 Traceback (most recent call last)",
      "Cell \u001b[0;32mIn[7], line 2\u001b[0m\n\u001b[1;32m      1\u001b[0m \u001b[38;5;66;03m# update by numpy\u001b[39;00m\n\u001b[0;32m----> 2\u001b[0m _, npgrads, td \u001b[38;5;241m=\u001b[39m \u001b[43mlearn\u001b[49m\u001b[43m(\u001b[49m\u001b[43mparams\u001b[49m\u001b[38;5;241;43m.\u001b[39;49m\u001b[43mcopy\u001b[49m\u001b[43m(\u001b[49m\u001b[43m)\u001b[49m\u001b[43m,\u001b[49m\u001b[43m \u001b[49m\u001b[43mrewards\u001b[49m\u001b[43m,\u001b[49m\u001b[43m \u001b[49m\u001b[43mcoords\u001b[49m\u001b[43m[\u001b[49m\u001b[38;5;241;43m0\u001b[39;49m\u001b[43m]\u001b[49m\u001b[43m,\u001b[49m\u001b[43m \u001b[49m\u001b[43mactions\u001b[49m\u001b[43m[\u001b[49m\u001b[38;5;241;43m0\u001b[39;49m\u001b[43m]\u001b[49m\u001b[43m,\u001b[49m\u001b[43m \u001b[49m\u001b[43mgamma\u001b[49m\u001b[43m,\u001b[49m\u001b[43m \u001b[49m\u001b[43metas\u001b[49m\u001b[43m)\u001b[49m \n\u001b[1;32m      4\u001b[0m \u001b[38;5;28;01mfor\u001b[39;00m g \u001b[38;5;129;01min\u001b[39;00m npgrads[\u001b[38;5;241m4\u001b[39m]: \u001b[38;5;28mprint\u001b[39m(g)\n",
      "Cell \u001b[0;32mIn[3], line 25\u001b[0m, in \u001b[0;36mlearn\u001b[0;34m(params, reward, state, onehotg, gamma, etas, beta)\u001b[0m\n\u001b[1;32m     22\u001b[0m df \u001b[38;5;241m=\u001b[39m state \u001b[38;5;241m-\u001b[39m pc_centers\n\u001b[1;32m     23\u001b[0m inv_sigma \u001b[38;5;241m=\u001b[39m np\u001b[38;5;241m.\u001b[39mlinalg\u001b[38;5;241m.\u001b[39minv(np\u001b[38;5;241m.\u001b[39mdiag(pc_sigmas\u001b[38;5;241m.\u001b[39mflatten()))\n\u001b[0;32m---> 25\u001b[0m dpcc \u001b[38;5;241m=\u001b[39m post_td \u001b[38;5;241m*\u001b[39m pcact[:, \u001b[38;5;28;01mNone\u001b[39;00m] \u001b[38;5;241m*\u001b[39m (\u001b[43minv_sigma\u001b[49m\u001b[43m \u001b[49m\u001b[38;5;241;43m@\u001b[39;49m\u001b[43m \u001b[49m\u001b[43mdf\u001b[49m\u001b[38;5;241;43m.\u001b[39;49m\u001b[43mT\u001b[49m)\u001b[38;5;241m.\u001b[39mT\n\u001b[1;32m     26\u001b[0m outer \u001b[38;5;241m=\u001b[39m np\u001b[38;5;241m.\u001b[39meinsum(\u001b[38;5;124m'\u001b[39m\u001b[38;5;124mnj,nk->njk\u001b[39m\u001b[38;5;124m'\u001b[39m, df, df)\n\u001b[1;32m     27\u001b[0m dpcs \u001b[38;5;241m=\u001b[39m \u001b[38;5;241m0.5\u001b[39m \u001b[38;5;241m*\u001b[39m (post_td \u001b[38;5;241m*\u001b[39m pcact[:, \u001b[38;5;28;01mNone\u001b[39;00m])[:, :, \u001b[38;5;28;01mNone\u001b[39;00m] \u001b[38;5;241m*\u001b[39m (inv_sigma \u001b[38;5;241m@\u001b[39m outer \u001b[38;5;241m@\u001b[39m inv_sigma)\n",
      "File \u001b[0;32m~/miniforge3/envs/control/lib/python3.8/site-packages/jax/_src/numpy/array_methods.py:258\u001b[0m, in \u001b[0;36m_defer_to_unrecognized_arg.<locals>.deferring_binary_op\u001b[0;34m(self, other)\u001b[0m\n\u001b[1;32m    256\u001b[0m args \u001b[38;5;241m=\u001b[39m (other, \u001b[38;5;28mself\u001b[39m) \u001b[38;5;28;01mif\u001b[39;00m swap \u001b[38;5;28;01melse\u001b[39;00m (\u001b[38;5;28mself\u001b[39m, other)\n\u001b[1;32m    257\u001b[0m \u001b[38;5;28;01mif\u001b[39;00m \u001b[38;5;28misinstance\u001b[39m(other, _accepted_binop_types):\n\u001b[0;32m--> 258\u001b[0m   \u001b[38;5;28;01mreturn\u001b[39;00m \u001b[43mbinary_op\u001b[49m\u001b[43m(\u001b[49m\u001b[38;5;241;43m*\u001b[39;49m\u001b[43margs\u001b[49m\u001b[43m)\u001b[49m\n\u001b[1;32m    259\u001b[0m \u001b[38;5;28;01mif\u001b[39;00m \u001b[38;5;28misinstance\u001b[39m(other, _rejected_binop_types):\n\u001b[1;32m    260\u001b[0m   \u001b[38;5;28;01mraise\u001b[39;00m \u001b[38;5;167;01mTypeError\u001b[39;00m(\u001b[38;5;124mf\u001b[39m\u001b[38;5;124m\"\u001b[39m\u001b[38;5;124munsupported operand type(s) for \u001b[39m\u001b[38;5;132;01m{\u001b[39;00mopchar\u001b[38;5;132;01m}\u001b[39;00m\u001b[38;5;124m: \u001b[39m\u001b[38;5;124m\"\u001b[39m\n\u001b[1;32m    261\u001b[0m                   \u001b[38;5;124mf\u001b[39m\u001b[38;5;124m\"\u001b[39m\u001b[38;5;132;01m{\u001b[39;00m\u001b[38;5;28mtype\u001b[39m(args[\u001b[38;5;241m0\u001b[39m])\u001b[38;5;241m.\u001b[39m\u001b[38;5;18m__name__\u001b[39m\u001b[38;5;132;01m!r}\u001b[39;00m\u001b[38;5;124m and \u001b[39m\u001b[38;5;132;01m{\u001b[39;00m\u001b[38;5;28mtype\u001b[39m(args[\u001b[38;5;241m1\u001b[39m])\u001b[38;5;241m.\u001b[39m\u001b[38;5;18m__name__\u001b[39m\u001b[38;5;132;01m!r}\u001b[39;00m\u001b[38;5;124m\"\u001b[39m)\n",
      "    \u001b[0;31m[... skipping hidden 12 frame]\u001b[0m\n",
      "File \u001b[0;32m~/miniforge3/envs/control/lib/python3.8/site-packages/jax/_src/numpy/lax_numpy.py:3116\u001b[0m, in \u001b[0;36mmatmul\u001b[0;34m(a, b, precision)\u001b[0m\n\u001b[1;32m   3114\u001b[0m a \u001b[38;5;241m=\u001b[39m lax\u001b[38;5;241m.\u001b[39msqueeze(a, \u001b[38;5;28mtuple\u001b[39m(a_squeeze))\n\u001b[1;32m   3115\u001b[0m b \u001b[38;5;241m=\u001b[39m lax\u001b[38;5;241m.\u001b[39msqueeze(b, \u001b[38;5;28mtuple\u001b[39m(b_squeeze))\n\u001b[0;32m-> 3116\u001b[0m out \u001b[38;5;241m=\u001b[39m \u001b[43mlax\u001b[49m\u001b[38;5;241;43m.\u001b[39;49m\u001b[43mdot_general\u001b[49m\u001b[43m(\u001b[49m\n\u001b[1;32m   3117\u001b[0m \u001b[43m  \u001b[49m\u001b[43ma\u001b[49m\u001b[43m,\u001b[49m\u001b[43m \u001b[49m\u001b[43mb\u001b[49m\u001b[43m,\u001b[49m\u001b[43m \u001b[49m\u001b[43m(\u001b[49m\u001b[43m(\u001b[49m\u001b[43m(\u001b[49m\u001b[43mndim\u001b[49m\u001b[43m(\u001b[49m\u001b[43ma\u001b[49m\u001b[43m)\u001b[49m\u001b[43m \u001b[49m\u001b[38;5;241;43m-\u001b[39;49m\u001b[43m \u001b[49m\u001b[38;5;241;43m1\u001b[39;49m\u001b[43m,\u001b[49m\u001b[43m)\u001b[49m\u001b[43m,\u001b[49m\u001b[43m \u001b[49m\u001b[43m(\u001b[49m\u001b[43mndim\u001b[49m\u001b[43m(\u001b[49m\u001b[43mb\u001b[49m\u001b[43m)\u001b[49m\u001b[43m \u001b[49m\u001b[38;5;241;43m-\u001b[39;49m\u001b[43m \u001b[49m\u001b[38;5;241;43m1\u001b[39;49m\u001b[43m \u001b[49m\u001b[38;5;241;43m-\u001b[39;49m\u001b[43m \u001b[49m\u001b[43mb_is_mat\u001b[49m\u001b[43m,\u001b[49m\u001b[43m)\u001b[49m\u001b[43m)\u001b[49m\u001b[43m,\u001b[49m\u001b[43m \u001b[49m\u001b[43m(\u001b[49m\u001b[43ma_batch\u001b[49m\u001b[43m,\u001b[49m\u001b[43m \u001b[49m\u001b[43mb_batch\u001b[49m\u001b[43m)\u001b[49m\u001b[43m)\u001b[49m\u001b[43m,\u001b[49m\n\u001b[1;32m   3118\u001b[0m \u001b[43m  \u001b[49m\u001b[43mprecision\u001b[49m\u001b[38;5;241;43m=\u001b[39;49m\u001b[43mprecision\u001b[49m\u001b[43m)\u001b[49m\n\u001b[1;32m   3119\u001b[0m \u001b[38;5;28;01mreturn\u001b[39;00m lax\u001b[38;5;241m.\u001b[39mtranspose(out, perm)\n",
      "    \u001b[0;31m[... skipping hidden 7 frame]\u001b[0m\n",
      "File \u001b[0;32m~/miniforge3/envs/control/lib/python3.8/site-packages/jax/_src/lax/lax.py:2496\u001b[0m, in \u001b[0;36m_dot_general_shape_rule\u001b[0;34m(lhs, rhs, dimension_numbers, precision, preferred_element_type)\u001b[0m\n\u001b[1;32m   2493\u001b[0m \u001b[38;5;28;01mif\u001b[39;00m \u001b[38;5;129;01mnot\u001b[39;00m core\u001b[38;5;241m.\u001b[39msymbolic_equal_shape(lhs_contracting_shape, rhs_contracting_shape):\n\u001b[1;32m   2494\u001b[0m   msg \u001b[38;5;241m=\u001b[39m (\u001b[38;5;124m\"\u001b[39m\u001b[38;5;124mdot_general requires contracting dimensions to have the same \u001b[39m\u001b[38;5;124m\"\u001b[39m\n\u001b[1;32m   2495\u001b[0m          \u001b[38;5;124m\"\u001b[39m\u001b[38;5;124mshape, got \u001b[39m\u001b[38;5;132;01m{}\u001b[39;00m\u001b[38;5;124m and \u001b[39m\u001b[38;5;132;01m{}\u001b[39;00m\u001b[38;5;124m.\u001b[39m\u001b[38;5;124m\"\u001b[39m)\n\u001b[0;32m-> 2496\u001b[0m   \u001b[38;5;28;01mraise\u001b[39;00m \u001b[38;5;167;01mTypeError\u001b[39;00m(msg\u001b[38;5;241m.\u001b[39mformat(lhs_contracting_shape, rhs_contracting_shape))\n\u001b[1;32m   2498\u001b[0m \u001b[38;5;28;01mreturn\u001b[39;00m _dot_general_shape_computation(lhs\u001b[38;5;241m.\u001b[39mshape, rhs\u001b[38;5;241m.\u001b[39mshape, dimension_numbers)\n",
      "\u001b[0;31mTypeError\u001b[0m: dot_general requires contracting dimensions to have the same shape, got (64,) and (2,)."
     ]
    }
   ],
   "source": [
    "# update by numpy\n",
    "_, npgrads, td = learn(params.copy(), rewards, coords[0], actions[0], gamma, etas) \n",
    "\n",
    "for g in npgrads[4]: print(g)"
   ]
  },
  {
   "cell_type": "code",
   "execution_count": null,
   "metadata": {},
   "outputs": [],
   "source": [
    "idx = 7\n",
    "pidx = 3\n",
    "print(np.array(jaxgrads[pidx])[idx])\n",
    "print(np.array(npgrads[pidx])[idx])\n",
    "print(np.array(jaxgrads[pidx])[idx] /np.array(npgrads[pidx])[idx])\n"
   ]
  },
  {
   "cell_type": "code",
   "execution_count": null,
   "metadata": {},
   "outputs": [],
   "source": [
    "idx = 2\n",
    "pidx = 2\n",
    "print(np.array(jaxgrads[pidx])[idx])\n",
    "print(np.array(npgrads[pidx])[idx])\n",
    "print(np.array(jaxgrads[pidx])[idx] /np.array(npgrads[pidx])[idx])\n"
   ]
  },
  {
   "cell_type": "code",
   "execution_count": null,
   "metadata": {},
   "outputs": [],
   "source": [
    "pidx = 0\n",
    "print(np.array(jaxgrads[pidx]) /np.array(npgrads[pidx]))"
   ]
  },
  {
   "cell_type": "code",
   "execution_count": null,
   "metadata": {},
   "outputs": [],
   "source": [
    "jnp.linalg.inv(params[1])"
   ]
  },
  {
   "cell_type": "code",
   "execution_count": null,
   "metadata": {},
   "outputs": [],
   "source": []
  }
 ],
 "metadata": {
  "kernelspec": {
   "display_name": "control",
   "language": "python",
   "name": "python3"
  },
  "language_info": {
   "codemirror_mode": {
    "name": "ipython",
    "version": 3
   },
   "file_extension": ".py",
   "mimetype": "text/x-python",
   "name": "python",
   "nbconvert_exporter": "python",
   "pygments_lexer": "ipython3",
   "version": "3.8.19"
  }
 },
 "nbformat": 4,
 "nbformat_minor": 2
}
