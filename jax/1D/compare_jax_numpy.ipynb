{
 "cells": [
  {
   "cell_type": "code",
   "execution_count": 1,
   "metadata": {},
   "outputs": [
    {
     "name": "stdout",
     "output_type": "stream",
     "text": [
      "Metal device set to: Apple M2 Pro\n",
      "\n",
      "systemMemory: 16.00 GB\n",
      "maxCacheSize: 5.33 GB\n",
      "\n",
      "cpu\n"
     ]
    },
    {
     "name": "stderr",
     "output_type": "stream",
     "text": [
      "2024-08-14 16:31:40.699777: W pjrt_plugin/src/mps_client.cc:534] WARNING: JAX Apple GPU support is experimental and not all JAX functionality is correctly supported!\n"
     ]
    }
   ],
   "source": [
    "import os\n",
    "os.environ[\"XLA_PYTHON_CLIENT_MEM_FRACTION\"] = \"0.2\"\n",
    "import jax.numpy as jnp\n",
    "import matplotlib.pyplot as plt\n",
    "from backend import *\n",
    "import numpy as np\n",
    "from jax import config\n",
    "config.update('jax_platform_name', 'cpu')\n",
    "from jax.lib import xla_bridge\n",
    "device = xla_bridge.get_backend().platform\n",
    "print(device)"
   ]
  },
  {
   "cell_type": "code",
   "execution_count": 2,
   "metadata": {},
   "outputs": [],
   "source": [
    "def td_loss(params, coords, actions, rewards, gamma, betas):\n",
    "    aprobs = []\n",
    "    values = []\n",
    "    for coord in coords:\n",
    "        pcact = predict_placecell(params, coord)\n",
    "        aprob = predict_action(params, pcact)\n",
    "        value = predict_value(params, pcact)\n",
    "        aprobs.append(aprob)\n",
    "        values.append(value)\n",
    "    aprobs = jnp.array(aprobs)\n",
    "    values = jnp.array(values)\n",
    "\n",
    "    log_likelihood = jnp.log(aprobs) * actions  # log probability of action as policy\n",
    "    tde = jnp.array(compute_reward_prediction_error(rewards[:,None], values, gamma))\n",
    "    actor_loss = jnp.sum(log_likelihood * lax.stop_gradient(tde))  # log policy * discounted reward\n",
    "    critic_loss = -jnp.sum(tde ** 2) # grad decent\n",
    "    tot_loss = actor_loss + betas[0] * critic_loss\n",
    "    return tot_loss\n",
    "\n",
    "@jit\n",
    "def update_td_params(params, coords, actions, rewards, etas, gamma, betas):\n",
    "    loss, grads = value_and_grad(td_loss)(params, coords,actions, rewards, gamma, betas)\n",
    "    pc_centers, pc_sigmas, pc_constant, actor_weights,critic_weights = params\n",
    "    dpcc, dpcs, dpca, dact, dcri = grads\n",
    "\n",
    "    # + for gradient ascent\n",
    "    pc_eta, sigma_eta,constant_eta, actor_eta, critic_eta = etas\n",
    "    newpc_centers = pc_centers + pc_eta * dpcc\n",
    "    newpc_sigma = pc_sigmas + sigma_eta * dpcs\n",
    "    newpc_const = pc_constant + constant_eta * dpca\n",
    "    newactor_weights = actor_weights + actor_eta * dact\n",
    "    newcritic_weights = critic_weights + critic_eta * dcri  # gradient descent\n",
    "    return [newpc_centers, newpc_sigma,newpc_const, newactor_weights,newcritic_weights], grads, loss\n"
   ]
  },
  {
   "cell_type": "code",
   "execution_count": 3,
   "metadata": {},
   "outputs": [],
   "source": [
    "def learn(params, reward, state, onehotg, gamma, etas,beta=2):\n",
    "    pcact = predict_placecell(params, state)\n",
    "    # newpcact = predict_placecell(params, newstate)\n",
    "    value =  predict_value(params, pcact)\n",
    "    # newvalue = predict_value(params, newpcact)\n",
    "    td = compute_reward_prediction_error(reward[:,None], np.array([value]), gamma)[:,0]\n",
    "\n",
    "    # td = (reward + gamma * newvalue - value)[0]\n",
    "    aprob = predict_action(params, pcact)\n",
    "    onehotg = onehotg[0]\n",
    "\n",
    "    # get critic grads\n",
    "    dcri =  pcact[:,None] * td\n",
    "\n",
    "    # get actor grads\n",
    "    decay = beta * (onehotg[:,None]- aprob[:,None])  # derived from softmax grads\n",
    "    # decay = onehotg[:,None]  # foster et al. 2000 rule, simplified form of the derivative\n",
    "    dact = (pcact[:,None] @ decay.T) * td\n",
    "\n",
    "    # get phi grads: dp = phi' (W^actor @ act + W^critic) * td\n",
    "    post_td = (params[3] @ decay + params[4]) * td\n",
    "\n",
    "    dpcc = (post_td * (pcact[:,None]) * ((state - params[0])/params[1]**2)[:,None])[:,0]\n",
    "    dpcs = (post_td * (pcact[:,None]) * ((state - params[0])**2/params[1]**3)[:,None])[:,0]\n",
    "    dpca = (post_td * (pcact[:,None]) * (2 / params[2][:,None]))[:,0]\n",
    "\n",
    "    grads = [dpcc, dpcs, dpca, dact, dcri]\n",
    "\n",
    "    #update weights\n",
    "    for p in range(len(params)):\n",
    "        params[p] += etas[p] * grads[p]\n",
    "\n",
    "    return params, grads, td"
   ]
  },
  {
   "cell_type": "code",
   "execution_count": 4,
   "metadata": {},
   "outputs": [],
   "source": [
    "# gradients computed by jax\n",
    "\n",
    "npc = 2\n",
    "nact = 2\n",
    "seed = 2020\n",
    "sigma = 0.25\n",
    "alpha = 0.1\n",
    "envsize=1.0\n",
    "gamma= 0.6\n",
    "\n",
    "# model \n",
    "params = uniform_pc_weights(npc, nact, seed, sigma=sigma, alpha=alpha, envsize=envsize)\n",
    "#params[3] /=params[3]\n",
    "#params[4] /=params[4]\n",
    "#params[4] *= 1\n",
    "etas = [1, 1, 1, 1, 1]\n",
    "betas = [0.5]\n",
    "\n",
    "# dataset\n",
    "coords = np.array([-0.75])\n",
    "rewards = np.array([1.0])\n",
    "actions = np.array([[0,1]])\n"
   ]
  },
  {
   "cell_type": "code",
   "execution_count": 5,
   "metadata": {},
   "outputs": [
    {
     "name": "stdout",
     "output_type": "stream",
     "text": [
      "-1.1931472\n",
      "[-3.592929e-07  8.143338e-17]\n",
      "[-3.5929290e-07 -5.7003364e-16]\n",
      "[-1.7964643e-06 -5.8166699e-17]\n",
      "[[-6.0653072e-03  6.0653081e-03]\n",
      " [-2.2897350e-13  2.2897352e-13]]\n",
      "[[6.065307e-03]\n",
      " [2.289735e-13]]\n"
     ]
    }
   ],
   "source": [
    "# update by jax\n",
    "_, jaxgrads, loss = update_td_params(params.copy(), coords, actions, rewards, etas, gamma, betas)\n",
    "print(loss)\n",
    "\n",
    "for g in jaxgrads: print(g)"
   ]
  },
  {
   "cell_type": "code",
   "execution_count": 6,
   "metadata": {},
   "outputs": [
    {
     "name": "stdout",
     "output_type": "stream",
     "text": [
      "[1.]\n",
      "[-3.592929e-07  8.143337e-17]\n",
      "[-3.592929e-07 -5.700336e-16]\n",
      "[-1.7964645e-06 -5.8166692e-17]\n",
      "[[-6.065307e-03  6.065307e-03]\n",
      " [-2.289735e-13  2.289735e-13]]\n",
      "[[6.065307e-03]\n",
      " [2.289735e-13]]\n"
     ]
    }
   ],
   "source": [
    "# update by numpy\n",
    "_, npgrads, td = learn(params.copy(), rewards, coords, actions, gamma, etas)\n",
    "print(td)\n",
    "\n",
    "for g in npgrads: print(g)"
   ]
  },
  {
   "cell_type": "code",
   "execution_count": 7,
   "metadata": {},
   "outputs": [
    {
     "data": {
      "text/plain": [
       "array([[1.        , 0.99999994],\n",
       "       [1.        , 0.9999999 ],\n",
       "       [1.0000001 , 0.9999999 ]], dtype=float32)"
      ]
     },
     "execution_count": 7,
     "metadata": {},
     "output_type": "execute_result"
    }
   ],
   "source": [
    "np.array(npgrads[:3])/np.array(jaxgrads[:3])"
   ]
  }
 ],
 "metadata": {
  "kernelspec": {
   "display_name": "control",
   "language": "python",
   "name": "python3"
  },
  "language_info": {
   "codemirror_mode": {
    "name": "ipython",
    "version": 3
   },
   "file_extension": ".py",
   "mimetype": "text/x-python",
   "name": "python",
   "nbconvert_exporter": "python",
   "pygments_lexer": "ipython3",
   "version": "3.8.19"
  }
 },
 "nbformat": 4,
 "nbformat_minor": 2
}
