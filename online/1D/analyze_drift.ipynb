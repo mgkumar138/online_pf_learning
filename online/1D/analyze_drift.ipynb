{
 "cells": [
  {
   "cell_type": "code",
   "execution_count": 2,
   "metadata": {},
   "outputs": [],
   "source": [
    "from utils import *\n",
    "from envs import *\n",
    "from model import *\n",
    "import numpy as np\n",
    "from copy import deepcopy\n",
    "import argparse\n",
    "import pandas as pd\n",
    "import ast\n",
    "parser = argparse.ArgumentParser()\n",
    "parser.add_argument('--episodes', type=int, required=False, help='episodes', default=1)\n",
    "parser.add_argument('--tmax', type=int, required=False, help='tmax', default=100)\n",
    "\n",
    "parser.add_argument('--goalcoords', type=float,nargs='+', required=False, help='goalcoords', default=[0.5])\n",
    "parser.add_argument('--rsz', type=float, required=False, help='rsz', default=0.05)\n",
    "parser.add_argument('--rmax', type=int, required=False, help='rmax', default=5)\n",
    "\n",
    "parser.add_argument('--seed', type=int, required=False, help='seed', default=2020)\n",
    "parser.add_argument('--pcinit', type=str, required=False, help='pcinit', default='uni')\n",
    "parser.add_argument('--npc', type=int, required=False, help='npc', default=32)\n",
    "parser.add_argument('--alpha', type=float, required=False, help='alpha', default=1.0)\n",
    "parser.add_argument('--sigma', type=float, required=False, help='sigma', default=0.05)\n",
    "\n",
    "parser.add_argument('--plr', type=float, required=False, help='plr', default=0.01)\n",
    "parser.add_argument('--clr', type=float, required=False, help='clr', default=0.01)\n",
    "parser.add_argument('--llr', type=float, required=False, help='llr', default=0.000) \n",
    "parser.add_argument('--alr', type=float, required=False, help='alr', default=0.000) \n",
    "parser.add_argument('--slr', type=float, required=False, help='slr', default=0.000)\n",
    "parser.add_argument('--gamma', type=float, required=False, help='gamma', default=0.9)\n",
    "parser.add_argument('--nact', type=int, required=False, help='nact', default=2)\n",
    "\n",
    "parser.add_argument('--balpha', type=float, required=False, help='balpha', default=0.0)\n",
    "parser.add_argument('--paramsindex', type=int,nargs='+', required=False, help='paramsindex', default=[0,1,2])\n",
    "parser.add_argument('--noise', type=float, required=False, help='noise', default=0.000)\n",
    "\n",
    "parser.add_argument('--datadir', type=str, required=False, help='datadir', default='./data/')\n",
    "parser.add_argument('--figdir', type=str, required=False, help='figdir', default='./fig/')\n",
    "parser.add_argument('--csvname', type=str, required=False, help='csvname', default='results')\n",
    "args, unknown = parser.parse_known_args()\n",
    "\n",
    "\n",
    "# training params\n",
    "train_episodes = args.episodes\n",
    "tmax = args.tmax\n",
    "\n",
    "# env pararms\n",
    "envsize = 1\n",
    "maxspeed = 0.1\n",
    "goalsize = args.rsz\n",
    "startcoord = [-0.75]\n",
    "goalcoords = args.goalcoords\n",
    "seed = args.seed\n",
    "initvelocity = 0.0\n",
    "max_reward = args.rmax\n",
    "\n",
    "#agent params\n",
    "npc = args.npc\n",
    "sigma = args.sigma\n",
    "alpha = args.alpha\n",
    "nact = args.nact\n",
    "\n",
    "# noise params\n",
    "noise = args.noise\n",
    "paramsindex = args.paramsindex\n",
    "piname = ''.join(map(str, paramsindex))\n",
    "pcinit = args.pcinit\n",
    "\n",
    "actor_eta = args.plr\n",
    "critic_eta = args.clr\n",
    "pc_eta = args.llr\n",
    "sigma_eta = args.slr\n",
    "constant_eta = args.alr\n",
    "etas = [pc_eta, sigma_eta,constant_eta, actor_eta,critic_eta]\n",
    "gamma = args.gamma\n",
    "balpha = args.balpha"
   ]
  },
  {
   "cell_type": "code",
   "execution_count": 7,
   "metadata": {},
   "outputs": [
    {
     "name": "stdout",
     "output_type": "stream",
     "text": [
      "0.30104407215089557 0.1891384167586416\n",
      "0.2885759314458512 0.20538796614057256\n"
     ]
    },
    {
     "data": {
      "image/png": "[encoded data removed]",
      "text/plain": [
       "<Figure size 640x480 with 1 Axes>"
      ]
     },
     "metadata": {},
     "output_type": "display_data"
    }
   ],
   "source": [
    "x = np.arange(10)\n",
    "y_fast = np.exp(-x/1)\n",
    "y_slow = np.exp(-x/10)\n",
    "\n",
    "plt.plot(x,y_fast)\n",
    "plt.plot(x,y_slow)\n",
    "\n",
    "print(np.std(y_fast), np.std(y_slow))\n",
    "print(np.std(y_fast+np.random.normal(size=y_fast.shape)*0.1), np.std(y_slow+np.random.normal(size=y_fast.shape)*0.1))"
   ]
  },
  {
   "cell_type": "code",
   "execution_count": 8,
   "metadata": {},
   "outputs": [
    {
     "name": "stdout",
     "output_type": "stream",
     "text": [
      "0\n",
      "1\n",
      "2\n",
      "3\n",
      "0,1\n",
      "0,2\n",
      "0,3\n",
      "1,2\n",
      "1,3\n",
      "2,3\n",
      "0,1,2\n",
      "0,1,3\n",
      "0,2,3\n",
      "1,2,3\n",
      "0,1,2,3\n"
     ]
    }
   ],
   "source": [
    "from itertools import combinations\n",
    "vals=(0,1,2,3)\n",
    "all_combinations = []\n",
    "for r in range(1, len(vals)+1):\n",
    "    for combo in combinations(vals, r):\n",
    "        all_combinations.append(combo)\n",
    "for combo in all_combinations:\n",
    "    print(\",\".join(map(str, combo)))"
   ]
  },
  {
   "cell_type": "code",
   "execution_count": null,
   "metadata": {},
   "outputs": [],
   "source": []
  }
 ],
 "metadata": {
  "kernelspec": {
   "display_name": "control",
   "language": "python",
   "name": "python3"
  },
  "language_info": {
   "codemirror_mode": {
    "name": "ipython",
    "version": 3
   },
   "file_extension": ".py",
   "mimetype": "text/x-python",
   "name": "python",
   "nbconvert_exporter": "python",
   "pygments_lexer": "ipython3",
   "version": "3.8.19"
  }
 },
 "nbformat": 4,
 "nbformat_minor": 2
}
