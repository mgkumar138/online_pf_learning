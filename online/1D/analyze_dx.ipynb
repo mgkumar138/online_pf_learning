{
 "cells": [
  {
   "cell_type": "code",
   "execution_count": 29,
   "metadata": {},
   "outputs": [],
   "source": [
    "from utils import *\n",
    "from envs import *\n",
    "from model import *\n",
    "import numpy as np\n",
    "from copy import deepcopy\n",
    "import argparse\n",
    "import pandas as pd\n",
    "import ast\n",
    "parser = argparse.ArgumentParser()\n",
    "parser.add_argument('--episodes', type=int, required=False, help='episodes', default=1)\n",
    "parser.add_argument('--tmax', type=int, required=False, help='tmax', default=100)\n",
    "\n",
    "parser.add_argument('--goalcoords', type=float,nargs='+', required=False, help='goalcoords', default=[0.5])\n",
    "parser.add_argument('--rsz', type=float, required=False, help='rsz', default=0.05)\n",
    "parser.add_argument('--rmax', type=int, required=False, help='rmax', default=5)\n",
    "\n",
    "parser.add_argument('--seed', type=int, required=False, help='seed', default=2020)\n",
    "parser.add_argument('--pcinit', type=str, required=False, help='pcinit', default='uni')\n",
    "parser.add_argument('--npc', type=int, required=False, help='npc', default=32)\n",
    "parser.add_argument('--alpha', type=float, required=False, help='alpha', default=1.0)\n",
    "parser.add_argument('--sigma', type=float, required=False, help='sigma', default=0.05)\n",
    "\n",
    "parser.add_argument('--plr', type=float, required=False, help='plr', default=0.01)\n",
    "parser.add_argument('--clr', type=float, required=False, help='clr', default=0.01)\n",
    "parser.add_argument('--llr', type=float, required=False, help='llr', default=0.000) \n",
    "parser.add_argument('--alr', type=float, required=False, help='alr', default=0.000) \n",
    "parser.add_argument('--slr', type=float, required=False, help='slr', default=0.000)\n",
    "parser.add_argument('--gamma', type=float, required=False, help='gamma', default=0.9)\n",
    "parser.add_argument('--nact', type=int, required=False, help='nact', default=2)\n",
    "\n",
    "parser.add_argument('--balpha', type=float, required=False, help='balpha', default=0.0)\n",
    "parser.add_argument('--paramsindex', type=int,nargs='+', required=False, help='paramsindex', default=[0,1,2])\n",
    "parser.add_argument('--noise', type=float, required=False, help='noise', default=0.000)\n",
    "\n",
    "parser.add_argument('--datadir', type=str, required=False, help='datadir', default='./data/')\n",
    "parser.add_argument('--figdir', type=str, required=False, help='figdir', default='./fig/')\n",
    "parser.add_argument('--csvname', type=str, required=False, help='csvname', default='results')\n",
    "args, unknown = parser.parse_known_args()\n",
    "\n",
    "\n",
    "# training params\n",
    "train_episodes = args.episodes\n",
    "tmax = args.tmax\n",
    "\n",
    "# env pararms\n",
    "envsize = 1\n",
    "maxspeed = 0.1\n",
    "goalsize = args.rsz\n",
    "startcoord = [-0.75]\n",
    "goalcoords = args.goalcoords\n",
    "seed = args.seed\n",
    "initvelocity = 0.0\n",
    "max_reward = args.rmax\n",
    "\n",
    "#agent params\n",
    "npc = args.npc\n",
    "sigma = args.sigma\n",
    "alpha = args.alpha\n",
    "nact = args.nact\n",
    "\n",
    "# noise params\n",
    "noise = args.noise\n",
    "paramsindex = args.paramsindex\n",
    "piname = ''.join(map(str, paramsindex))\n",
    "pcinit = args.pcinit\n",
    "\n",
    "actor_eta = args.plr\n",
    "critic_eta = args.clr\n",
    "pc_eta = args.llr\n",
    "sigma_eta = args.slr\n",
    "constant_eta = args.alr\n",
    "etas = [pc_eta, sigma_eta,constant_eta, actor_eta,critic_eta]\n",
    "gamma = args.gamma\n",
    "balpha = args.balpha"
   ]
  },
  {
   "cell_type": "code",
   "execution_count": 30,
   "metadata": {},
   "outputs": [
    {
     "name": "stdout",
     "output_type": "stream",
     "text": [
      "[ 0.44906967  0.12196754  0.00181137  0.00366545 -0.00594249 -0.00604593\n",
      " -0.00491656 -0.00329469 -0.00093467]\n"
     ]
    }
   ],
   "source": [
    "\n",
    "\n",
    "# Load the CSV file with proper error handling\n",
    "csv_file_path = './csvs/results_npc.csv'\n",
    "df = pd.read_csv(csv_file_path)\n",
    "\n",
    "# Ensure all necessary columns are of the correct type\n",
    "df['npc'] = df['npc'].astype(int)\n",
    "df['seed'] = df['seed'].astype(int)\n",
    "df['plr'] = df['plr'].astype(float)\n",
    "df['clr'] = df['clr'].astype(float)\n",
    "\n",
    "df['llr'] = df['llr'].astype(float)\n",
    "df['alr'] = df['alr'].astype(float)\n",
    "df['slr'] = df['slr'].astype(float)\n",
    "\n",
    "\n",
    "# Parameters\n",
    "train_episodes = 50000\n",
    "npcs = [4,8,16,32,64,128,256,512,1024]\n",
    "seed_count = 10  # Specify the number of seeds to use\n",
    "\n",
    "plrs = 0.01\n",
    "clrs = 0.01\n",
    "llrs = 0.0001\n",
    "alrs = 0.0001\n",
    "slrs = 0.0001\n",
    "\n",
    "trial_len = 100  # Looks like you're trying to match this to the number of trials\n",
    "\n",
    "# Initialize matrices to store scores and drifts\n",
    "dxrs = np.zeros([len(npcs), seed_count, trial_len])\n",
    "\n",
    "# Function to convert a string representation of array back to numpy array\n",
    "def str_to_array(arr_str):\n",
    "    # Ensure removal of newline characters and proper formatting of the string\n",
    "    cleaned_str = arr_str.replace(\"\\n\", \" \").replace('[ ', '[').replace(' ]', ']').replace('[', '').replace(']', '')\n",
    "    # Ensure single spaces are replaced with a single comma\n",
    "    cleaned_str = ','.join(cleaned_str.split())\n",
    "    return np.array(ast.literal_eval(f\"[{cleaned_str}]\"))\n",
    "\n",
    "# Fill the matrices with values from the CSV file\n",
    "for i, row in df.iterrows():\n",
    "    npc = row['npc']\n",
    "    seed = row['seed']\n",
    "    plr, clr, llr, alr, slr = row['plr'], row['clr'],row['llr'],row['alr'],row['slr']\n",
    "    dxr_values = str_to_array(row['dxr'])\n",
    "\n",
    "    if npc in npcs and plr==plrs and clr==clrs and llr==llrs and alr==alrs and slr==slrs and seed < seed_count:\n",
    "        npc_idx = npcs.index(npc)\n",
    "        dxrs[npc_idx, seed] = dxr_values\n",
    "\n",
    "print(dxrs[:,0,-1])"
   ]
  },
  {
   "cell_type": "code",
   "execution_count": 31,
   "metadata": {},
   "outputs": [
    {
     "name": "stderr",
     "output_type": "stream",
     "text": [
      "No artists with labels found to put in legend.  Note that artists whose label start with an underscore are ignored when legend() is called with no argument.\n"
     ]
    },
    {
     "data": {
      "image/png": "[encoded data removed]",
      "text/plain": [
       "<Figure size 400x300 with 1 Axes>"
      ]
     },
     "metadata": {},
     "output_type": "display_data"
    }
   ],
   "source": [
    "\n",
    "# Calculate the average dxr over all seeds for each npc\n",
    "average_dxrs = np.mean(dxrs, axis=1)\n",
    "\n",
    "# Plotting\n",
    "# plt.figure(figsize=(4, 3))\n",
    "# for idx, npc in enumerate(npcs):\n",
    "#     plt.plot(np.linspace(0, train_episodes, trial_len), average_dxrs[idx], label=f'npc={npc}')\n",
    "\n",
    "# plt.xlabel('Trials')\n",
    "# plt.ylabel('Average dxr')\n",
    "# plt.legend()\n",
    "# plt.title('Average dxr over seeds for each npc')\n",
    "# plt.grid(True)\n",
    "# plt.show()\n",
    "\n",
    "\n",
    "# Calculate the average dxr over all seeds for each npc\n",
    "last_dxrs = average_dxrs[:,-1]\n",
    "\n",
    "# Plotting\n",
    "plt.figure(figsize=(4, 3))\n",
    "plt.scatter(npcs, last_dxrs)\n",
    "\n",
    "plt.xscale('log')\n",
    "# plt.yscale('log')\n",
    "\n",
    "plt.xlabel('$N$')\n",
    "plt.ylabel('dxr')\n",
    "plt.legend()\n",
    "plt.title('Average dxr over seeds for each npc')\n",
    "plt.grid(True)\n",
    "plt.show()"
   ]
  },
  {
   "cell_type": "code",
   "execution_count": 36,
   "metadata": {},
   "outputs": [
    {
     "name": "stdout",
     "output_type": "stream",
     "text": [
      "[ 0.          0.          0.          0.          0.          0.\n",
      " -0.00462831 -0.00032186 -0.01018075  0.        ]\n"
     ]
    }
   ],
   "source": [
    "\n",
    "\n",
    "# Load the CSV file with proper error handling\n",
    "csv_file_path = './csvs/results_rmax.csv'\n",
    "df = pd.read_csv(csv_file_path)\n",
    "\n",
    "# Ensure all necessary columns are of the correct type\n",
    "df['rmax'] = df['rmax'].astype(int)\n",
    "df['seed'] = df['seed'].astype(int)\n",
    "df['plr'] = df['plr'].astype(float)\n",
    "df['clr'] = df['clr'].astype(float)\n",
    "\n",
    "df['llr'] = df['llr'].astype(float)\n",
    "df['alr'] = df['alr'].astype(float)\n",
    "df['slr'] = df['slr'].astype(float)\n",
    "\n",
    "\n",
    "# Parameters\n",
    "train_episodes = 50000\n",
    "rmaxs = [1,2,3,4,5,6,7,8,9,10]\n",
    "seed_count = 10  # Specify the number of seeds to use\n",
    "\n",
    "plrs = 0.01\n",
    "clrs = 0.01\n",
    "llrs = 0.0001\n",
    "alrs = 0.0001\n",
    "slrs = 0.0001\n",
    "\n",
    "trial_len = 100  # Looks like you're trying to match this to the number of trials\n",
    "\n",
    "# Initialize matrices to store scores and drifts\n",
    "dxrs = np.zeros([len(rmaxs), seed_count, trial_len])\n",
    "\n",
    "# Function to convert a string representation of array back to numpy array\n",
    "def str_to_array(arr_str):\n",
    "    # Ensure removal of newline characters and proper formatting of the string\n",
    "    cleaned_str = arr_str.replace(\"\\n\", \" \").replace('[ ', '[').replace(' ]', ']').replace('[', '').replace(']', '')\n",
    "    # Ensure single spaces are replaced with a single comma\n",
    "    cleaned_str = ','.join(cleaned_str.split())\n",
    "    return np.array(ast.literal_eval(f\"[{cleaned_str}]\"))\n",
    "\n",
    "# Fill the matrices with values from the CSV file\n",
    "for i, row in df.iterrows():\n",
    "    rmax = row['rmax']\n",
    "    seed = row['seed']\n",
    "    plr, clr, llr, alr, slr = row['plr'], row['clr'],row['llr'],row['alr'],row['slr']\n",
    "    dxr_values = str_to_array(row['dxr'])\n",
    "\n",
    "    if rmax in rmaxs and plr==plrs and clr==clrs and llr==llrs and alr==alrs and slr==slrs and seed < seed_count:\n",
    "        rmax_idx = rmaxs.index(rmax)\n",
    "        dxrs[rmax_idx, seed] = dxr_values\n",
    "\n",
    "print(np.mean(dxrs[:,:,-1],axis=1))"
   ]
  },
  {
   "cell_type": "code",
   "execution_count": 38,
   "metadata": {},
   "outputs": [
    {
     "name": "stderr",
     "output_type": "stream",
     "text": [
      "No artists with labels found to put in legend.  Note that artists whose label start with an underscore are ignored when legend() is called with no argument.\n"
     ]
    },
    {
     "data": {
      "image/png": "[encoded data removed]",
      "text/plain": [
       "<Figure size 400x300 with 1 Axes>"
      ]
     },
     "metadata": {},
     "output_type": "display_data"
    }
   ],
   "source": [
    "\n",
    "# Calculate the average dxr over all seeds for each npc\n",
    "average_dxrs = np.mean(dxrs, axis=1)\n",
    "\n",
    "# Calculate the average dxr over all seeds for each npc\n",
    "last_dxrs = average_dxrs[:,-1]\n",
    "\n",
    "# Plotting\n",
    "plt.figure(figsize=(4, 3))\n",
    "plt.scatter(rmaxs, last_dxrs)\n",
    "\n",
    "# plt.xscale('log')\n",
    "# plt.yscale('log')\n",
    "\n",
    "plt.xlabel('$R_{max}$')\n",
    "plt.ylabel('dxr')\n",
    "plt.legend()\n",
    "plt.title('Average dxr over seeds for each npc')\n",
    "plt.grid(True)\n",
    "plt.show()"
   ]
  },
  {
   "cell_type": "code",
   "execution_count": 27,
   "metadata": {},
   "outputs": [
    {
     "name": "stdout",
     "output_type": "stream",
     "text": [
      "[ 0.01033836  0.01476889 -0.00073934 -0.01196285 -0.0205687  -0.03329506\n",
      "  0.         -0.03259626 -0.03095501]\n"
     ]
    }
   ],
   "source": [
    "\n",
    "\n",
    "# Load the CSV file with proper error handling\n",
    "csv_file_path = './csvs/results_rsz.csv'\n",
    "df = pd.read_csv(csv_file_path)\n",
    "\n",
    "# Ensure all necessary columns are of the correct type\n",
    "df['rsz'] = df['rsz'].astype(float)\n",
    "df['seed'] = df['seed'].astype(int)\n",
    "\n",
    "# Parameters\n",
    "train_episodes = 50000\n",
    "npcs = [0.005, 0.01, 0.025, 0.05, 0.075, 0.1, 0.15, 0.2, 0.25]\n",
    "seed_count = 10  # Specify the number of seeds to use\n",
    "\n",
    "trial_len = 100  # Looks like you're trying to match this to the number of trials\n",
    "\n",
    "# Initialize matrices to store scores and drifts\n",
    "dxrs = np.zeros([len(npcs), seed_count, trial_len])\n",
    "\n",
    "# Function to convert a string representation of array back to numpy array\n",
    "def str_to_array(arr_str):\n",
    "    # Ensure removal of newline characters and proper formatting of the string\n",
    "    cleaned_str = arr_str.replace(\"\\n\", \" \").replace('[ ', '[').replace(' ]', ']').replace('[', '').replace(']', '')\n",
    "    # Ensure single spaces are replaced with a single comma\n",
    "    cleaned_str = ','.join(cleaned_str.split())\n",
    "    return np.array(ast.literal_eval(f\"[{cleaned_str}]\"))\n",
    "\n",
    "# Fill the matrices with values from the CSV file\n",
    "for i, row in df.iterrows():\n",
    "    npc = row['rsz']\n",
    "    seed = row['seed']\n",
    "    dxr_values = str_to_array(row['dxr'])\n",
    "\n",
    "    if npc in npcs and seed < seed_count:\n",
    "        npc_idx = npcs.index(npc)\n",
    "        dxrs[npc_idx, seed] = dxr_values\n",
    "\n",
    "print(dxrs[:,0,-1])"
   ]
  },
  {
   "cell_type": "code",
   "execution_count": 28,
   "metadata": {},
   "outputs": [
    {
     "name": "stderr",
     "output_type": "stream",
     "text": [
      "No artists with labels found to put in legend.  Note that artists whose label start with an underscore are ignored when legend() is called with no argument.\n"
     ]
    },
    {
     "data": {
      "image/png": "[encoded data removed]",
      "text/plain": [
       "<Figure size 400x300 with 1 Axes>"
      ]
     },
     "metadata": {},
     "output_type": "display_data"
    }
   ],
   "source": [
    "\n",
    "# Calculate the average dxr over all seeds for each npc\n",
    "average_dxrs = np.mean(dxrs, axis=1)\n",
    "\n",
    "# Calculate the average dxr over all seeds for each npc\n",
    "last_dxrs = average_dxrs[:,-1]\n",
    "\n",
    "# Plotting\n",
    "plt.figure(figsize=(4, 3))\n",
    "plt.scatter(npcs, last_dxrs)\n",
    "\n",
    "# plt.xscale('log')\n",
    "# plt.yscale('log')\n",
    "\n",
    "plt.xlabel('$R_{size}$')\n",
    "plt.ylabel('dxr')\n",
    "plt.legend()\n",
    "plt.title('Average dxr over seeds for each npc')\n",
    "plt.grid(True)\n",
    "plt.show()"
   ]
  },
  {
   "cell_type": "code",
   "execution_count": null,
   "metadata": {},
   "outputs": [],
   "source": []
  }
 ],
 "metadata": {
  "kernelspec": {
   "display_name": "control",
   "language": "python",
   "name": "python3"
  },
  "language_info": {
   "codemirror_mode": {
    "name": "ipython",
    "version": 3
   },
   "file_extension": ".py",
   "mimetype": "text/x-python",
   "name": "python",
   "nbconvert_exporter": "python",
   "pygments_lexer": "ipython3",
   "version": "3.8.19"
  }
 },
 "nbformat": 4,
 "nbformat_minor": 2
}
