{
 "cells": [
  {
   "cell_type": "code",
   "execution_count": 1,
   "metadata": {},
   "outputs": [],
   "source": [
    "import numpy as np\n",
    "import matplotlib.pyplot as plt\n",
    "from model import *\n",
    "from utils import *\n",
    "import timeit\n",
    "from copy import deepcopy"
   ]
  },
  {
   "cell_type": "code",
   "execution_count": 2,
   "metadata": {},
   "outputs": [
    {
     "name": "stdout",
     "output_type": "stream",
     "text": [
      "(121, 2)\n"
     ]
    }
   ],
   "source": [
    "xs = get_statespace(11)\n",
    "print(xs.shape)"
   ]
  },
  {
   "cell_type": "code",
   "execution_count": 3,
   "metadata": {},
   "outputs": [],
   "source": [
    "npc = 3**2\n",
    "nact = 4\n",
    "sigma = 1.0\n",
    "seed = 0\n",
    "params = uniform_2D_pc_weights(npc, nact,sigma=sigma, seed=seed)\n"
   ]
  },
  {
   "cell_type": "code",
   "execution_count": 4,
   "metadata": {},
   "outputs": [],
   "source": [
    "state = xs[0]\n",
    "newstate = xs[1]\n",
    "reward = 10\n",
    "gamma = 0.9\n",
    "beta = 1\n",
    "onehotg = np.array([1,0,0,0])\n",
    "aprob = np.array([0.6,0.2,0.1,0.1])"
   ]
  },
  {
   "cell_type": "code",
   "execution_count": 5,
   "metadata": {},
   "outputs": [
    {
     "name": "stdout",
     "output_type": "stream",
     "text": [
      "1.36 ms ± 5.07 µs per loop (mean ± std. dev. of 7 runs, 1,000 loops each)\n"
     ]
    }
   ],
   "source": [
    "%timeit learn(deepcopy(params), reward, newstate,state, onehotg,aprob, gamma, etas=[1,1,1,1,1],balpha=0.0, noise=0.0, paramsindex=[], beta=1)"
   ]
  },
  {
   "cell_type": "code",
   "execution_count": 6,
   "metadata": {},
   "outputs": [
    {
     "name": "stdout",
     "output_type": "stream",
     "text": [
      "918 µs ± 127 µs per loop (mean ± std. dev. of 7 runs, 1,000 loops each)\n"
     ]
    }
   ],
   "source": [
    "%timeit learn_opt(deepcopy(params), reward, newstate,state, onehotg,aprob, gamma, etas=[1,1,1,1,1],balpha=0.0, noise=0.0, paramsindex=[], beta=1)"
   ]
  },
  {
   "cell_type": "code",
   "execution_count": 7,
   "metadata": {},
   "outputs": [
    {
     "name": "stdout",
     "output_type": "stream",
     "text": [
      "40.4 ms ± 10 ms per loop (mean ± std. dev. of 7 runs, 10 loops each)\n"
     ]
    }
   ],
   "source": [
    "%timeit predict_batch_placecell(params, xs)"
   ]
  },
  {
   "cell_type": "code",
   "execution_count": 8,
   "metadata": {},
   "outputs": [
    {
     "name": "stdout",
     "output_type": "stream",
     "text": [
      "[[1. 0.]\n",
      " [0. 1.]]\n",
      "[[1.  0.1]\n",
      " [0.  1. ]]\n",
      "(121, 2) (121, 9)\n"
     ]
    },
    {
     "ename": "ValueError",
     "evalue": "cannot reshape array of size 121 into shape (51,51)",
     "output_type": "error",
     "traceback": [
      "\u001b[0;31m---------------------------------------------------------------------------\u001b[0m",
      "\u001b[0;31mValueError\u001b[0m                                Traceback (most recent call last)",
      "Cell \u001b[0;32mIn[8], line 6\u001b[0m\n\u001b[1;32m      4\u001b[0m pcs \u001b[38;5;241m=\u001b[39m predict_batch_placecell(params, xs)\n\u001b[1;32m      5\u001b[0m \u001b[38;5;28mprint\u001b[39m(xs\u001b[38;5;241m.\u001b[39mshape, pcs\u001b[38;5;241m.\u001b[39mshape)\n\u001b[0;32m----> 6\u001b[0m plt\u001b[38;5;241m.\u001b[39mimshow(\u001b[43mpcs\u001b[49m\u001b[43m[\u001b[49m\u001b[43m:\u001b[49m\u001b[43m,\u001b[49m\u001b[38;5;241;43m4\u001b[39;49m\u001b[43m]\u001b[49m\u001b[38;5;241;43m.\u001b[39;49m\u001b[43mreshape\u001b[49m\u001b[43m(\u001b[49m\u001b[38;5;241;43m51\u001b[39;49m\u001b[43m,\u001b[49m\u001b[38;5;241;43m51\u001b[39;49m\u001b[43m)\u001b[49m)\n",
      "\u001b[0;31mValueError\u001b[0m: cannot reshape array of size 121 into shape (51,51)"
     ]
    }
   ],
   "source": [
    "print(params[1][4])\n",
    "params[1][4][0,1] += 0.1\n",
    "print(params[1][4])\n",
    "pcs = predict_batch_placecell(params, xs)\n",
    "print(xs.shape, pcs.shape)\n",
    "plt.imshow(pcs[:,4].reshape(51,51))"
   ]
  },
  {
   "cell_type": "code",
   "execution_count": null,
   "metadata": {},
   "outputs": [
    {
     "name": "stdout",
     "output_type": "stream",
     "text": [
      "[[ 0.1  0. ]\n",
      " [-0.1  0.1]]\n",
      "(2601, 2) (2601, 9)\n"
     ]
    },
    {
     "data": {
      "text/plain": [
       "<matplotlib.image.AxesImage at 0x12a222a90>"
      ]
     },
     "execution_count": 14,
     "metadata": {},
     "output_type": "execute_result"
    },
    {
     "data": {
      "image/png": "[encoded data removed]",
      "text/plain": [
       "<Figure size 640x480 with 1 Axes>"
      ]
     },
     "metadata": {},
     "output_type": "display_data"
    }
   ],
   "source": [
    "params[1][4][0,1] = 0.0\n",
    "params[1][4][1,0] = -0.1\n",
    "print(params[1][4])\n",
    "pcs = predict_batch_placecell(params, xs)\n",
    "print(xs.shape, pcs.shape)\n",
    "plt.imshow(pcs[:,4].reshape(51,51))"
   ]
  },
  {
   "cell_type": "code",
   "execution_count": null,
   "metadata": {},
   "outputs": [
    {
     "name": "stdout",
     "output_type": "stream",
     "text": [
      "[[ 0.1   0.05]\n",
      " [-0.05  0.1 ]]\n",
      "(2601, 2) (2601, 9)\n"
     ]
    },
    {
     "data": {
      "text/plain": [
       "<matplotlib.image.AxesImage at 0x12ab03760>"
      ]
     },
     "execution_count": 34,
     "metadata": {},
     "output_type": "execute_result"
    },
    {
     "data": {
      "image/png": "[encoded data removed]",
      "text/plain": [
       "<Figure size 640x480 with 1 Axes>"
      ]
     },
     "metadata": {},
     "output_type": "display_data"
    }
   ],
   "source": [
    "params[1][4] = np.eye(2)*0.1\n",
    "params[1][4][0,1] += 0.05\n",
    "\n",
    "params[1][4][1,0] += -0.05\n",
    "print(params[1][4])\n",
    "pcs = predict_batch_placecell(params, xs)\n",
    "print(xs.shape, pcs.shape)\n",
    "plt.imshow(pcs[:,4].reshape(51,51))"
   ]
  },
  {
   "cell_type": "code",
   "execution_count": null,
   "metadata": {},
   "outputs": [],
   "source": []
  }
 ],
 "metadata": {
  "kernelspec": {
   "display_name": "control",
   "language": "python",
   "name": "python3"
  },
  "language_info": {
   "codemirror_mode": {
    "name": "ipython",
    "version": 3
   },
   "file_extension": ".py",
   "mimetype": "text/x-python",
   "name": "python",
   "nbconvert_exporter": "python",
   "pygments_lexer": "ipython3",
   "version": "3.8.19"
  }
 },
 "nbformat": 4,
 "nbformat_minor": 2
}
